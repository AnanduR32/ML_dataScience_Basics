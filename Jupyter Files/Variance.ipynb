{
 "cells": [
  {
   "cell_type": "code",
   "execution_count": 2,
   "metadata": {},
   "outputs": [
    {
     "name": "stdout",
     "output_type": "stream",
     "text": [
      "34.02469135802468\n",
      "34.02469135802468\n"
     ]
    }
   ],
   "source": [
    "import pandas as pd \n",
    "number = { 'numbers' : [37,42,48,51,52,53,54,54,55]}\n",
    "df=pd.DataFrame(number, columns=['numbers'])\n",
    "mean=df['numbers'].mean() #calculating the mean of the dataset\n",
    "devn=df['numbers'] - mean #creating a column of deviations of each term with respect to the mean\n",
    "sqDevn=devn ** 2          #calculating square deviation\n",
    "variance=sqDevn.mean()    #calculating variance by dividing summation of squared deviations by number of terms\n",
    "print(variance)\n",
    "var=df['numbers'].var(ddof=0) #builtin python function to calculate variance\n",
    "print(var)\n"
   ]
  },
  {
   "cell_type": "code",
   "execution_count": null,
   "metadata": {},
   "outputs": [],
   "source": []
  }
 ],
 "metadata": {
  "kernelspec": {
   "display_name": "Python 3",
   "language": "python",
   "name": "python3"
  },
  "language_info": {
   "codemirror_mode": {
    "name": "ipython",
    "version": 3
   },
   "file_extension": ".py",
   "mimetype": "text/x-python",
   "name": "python",
   "nbconvert_exporter": "python",
   "pygments_lexer": "ipython3",
   "version": "3.7.3"
  }
 },
 "nbformat": 4,
 "nbformat_minor": 2
}
