{
 "cells": [
  {
   "cell_type": "code",
   "execution_count": 147,
   "metadata": {},
   "outputs": [
    {
     "name": "stdout",
     "output_type": "stream",
     "text": [
      "181.25\n",
      "4180.2875\n",
      "64.65514287355647\n"
     ]
    },
    {
     "data": {
      "text/plain": [
       "11"
      ]
     },
     "execution_count": 147,
     "metadata": {},
     "output_type": "execute_result"
    }
   ],
   "source": [
    "#To calculate how many values are within one unit standard deviation of the mean value \n",
    "import pandas as pd \n",
    "number = { 'numbers' : [180,313,101,255,202,198,109,183,181,113,171,165,318,145,131,145,226,113,268,108]}\n",
    "df=pd.DataFrame(number, columns=['numbers'])\n",
    "mean=df['numbers'].mean()\n",
    "variance=df['numbers'].var(ddof=0)\n",
    "stdevn=df['numbers'].std(ddof=0) \n",
    "print(mean)     \n",
    "print(variance)\n",
    "print(stdevn)\n",
    "diff=abs(df['numbers'] - mean)        #calculating the difference between each term and mean value\n",
    "diffT=diff.loc[(diff<stdevn) == True] #selecting values that are within the standard deviation \n",
    "diffT.shape[0]                        #number of values is obtained from the number of records in dataframe\n"
   ]
  },
  {
   "cell_type": "code",
   "execution_count": null,
   "metadata": {},
   "outputs": [],
   "source": []
  }
 ],
 "metadata": {},
 "nbformat": 4,
 "nbformat_minor": 2
}
