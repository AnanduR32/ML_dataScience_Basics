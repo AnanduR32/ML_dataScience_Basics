{
 "cells": [
  {
   "cell_type": "code",
   "execution_count": 1,
   "metadata": {
    "execution": {
     "iopub.execute_input": "2020-12-20T04:59:33.685023Z",
     "iopub.status.busy": "2020-12-20T04:59:33.684205Z",
     "iopub.status.idle": "2020-12-20T04:59:33.691461Z",
     "shell.execute_reply": "2020-12-20T04:59:33.692010Z"
    },
    "papermill": {
     "duration": 0.069289,
     "end_time": "2020-12-20T04:59:33.692177",
     "exception": false,
     "start_time": "2020-12-20T04:59:33.622888",
     "status": "completed"
    },
    "tags": []
   },
   "outputs": [
    {
     "name": "stdout",
     "output_type": "stream",
     "text": [
      "/opt/conda/bin/python\n"
     ]
    }
   ],
   "source": [
    "import sys\n",
    "print(sys.executable)"
   ]
  },
  {
   "cell_type": "code",
   "execution_count": 2,
   "metadata": {
    "execution": {
     "iopub.execute_input": "2020-12-20T04:59:33.822143Z",
     "iopub.status.busy": "2020-12-20T04:59:33.821312Z",
     "iopub.status.idle": "2020-12-20T04:59:35.365208Z",
     "shell.execute_reply": "2020-12-20T04:59:35.365727Z"
    },
    "papermill": {
     "duration": 1.615808,
     "end_time": "2020-12-20T04:59:35.365863",
     "exception": false,
     "start_time": "2020-12-20T04:59:33.750055",
     "status": "completed"
    },
    "tags": []
   },
   "outputs": [
    {
     "data": {
      "application/javascript": [
       "IPython.notebook.set_autosave_interval(10000)"
      ]
     },
     "metadata": {},
     "output_type": "display_data"
    },
    {
     "name": "stdout",
     "output_type": "stream",
     "text": [
      "Autosaving every 10 seconds\n"
     ]
    }
   ],
   "source": [
    "## Basics\n",
    "import numpy as np\n",
    "import pandas as pd\n",
    "import re\n",
    "import datetime as dt\n",
    "import pickle\n",
    "import warnings\n",
    "import matplotlib.pyplot as plt\n",
    "import seaborn as sns\n",
    "\n",
    "## Regression using scikit-learn\n",
    "from sklearn.linear_model import Ridge, Lasso\n",
    "from sklearn import metrics\n",
    "from sklearn.model_selection import train_test_split,cross_val_score\n",
    "from sklearn.preprocessing import LabelEncoder, scale, OneHotEncoder\n",
    "from sklearn.ensemble import GradientBoostingRegressor\n",
    "\n",
    "## Setup\n",
    "warnings.filterwarnings('ignore') \n",
    "plt.style.use(['seaborn-pastel'])\n",
    "%matplotlib inline\n",
    "%autosave 10"
   ]
  },
  {
   "cell_type": "code",
   "execution_count": 3,
   "metadata": {
    "execution": {
     "iopub.execute_input": "2020-12-20T04:59:35.490759Z",
     "iopub.status.busy": "2020-12-20T04:59:35.489835Z",
     "iopub.status.idle": "2020-12-20T04:59:38.932705Z",
     "shell.execute_reply": "2020-12-20T04:59:38.931995Z"
    },
    "papermill": {
     "duration": 3.507259,
     "end_time": "2020-12-20T04:59:38.932823",
     "exception": false,
     "start_time": "2020-12-20T04:59:35.425564",
     "status": "completed"
    },
    "scrolled": false,
    "tags": []
   },
   "outputs": [
    {
     "name": "stdout",
     "output_type": "stream",
     "text": [
      "['url' 'id' 'Lng' 'Lat' 'Cid' 'tradeTime' 'DOM' 'followers' 'totalPrice'\n",
      " 'price' 'square' 'livingRoom' 'drawingRoom' 'kitchen' 'bathRoom' 'floor'\n",
      " 'buildingType' 'constructionTime' 'renovationCondition'\n",
      " 'buildingStructure' 'ladderRatio' 'elevator' 'fiveYearsProperty' 'subway'\n",
      " 'district' 'communityAverage']\n"
     ]
    },
    {
     "data": {
      "text/html": [
       "<div>\n",
       "<style scoped>\n",
       "    .dataframe tbody tr th:only-of-type {\n",
       "        vertical-align: middle;\n",
       "    }\n",
       "\n",
       "    .dataframe tbody tr th {\n",
       "        vertical-align: top;\n",
       "    }\n",
       "\n",
       "    .dataframe thead th {\n",
       "        text-align: right;\n",
       "    }\n",
       "</style>\n",
       "<table border=\"1\" class=\"dataframe\">\n",
       "  <thead>\n",
       "    <tr style=\"text-align: right;\">\n",
       "      <th></th>\n",
       "      <th>url</th>\n",
       "      <th>id</th>\n",
       "      <th>Lng</th>\n",
       "      <th>Lat</th>\n",
       "      <th>Cid</th>\n",
       "      <th>tradeTime</th>\n",
       "      <th>DOM</th>\n",
       "      <th>followers</th>\n",
       "      <th>totalPrice</th>\n",
       "      <th>price</th>\n",
       "      <th>...</th>\n",
       "      <th>buildingType</th>\n",
       "      <th>constructionTime</th>\n",
       "      <th>renovationCondition</th>\n",
       "      <th>buildingStructure</th>\n",
       "      <th>ladderRatio</th>\n",
       "      <th>elevator</th>\n",
       "      <th>fiveYearsProperty</th>\n",
       "      <th>subway</th>\n",
       "      <th>district</th>\n",
       "      <th>communityAverage</th>\n",
       "    </tr>\n",
       "  </thead>\n",
       "  <tbody>\n",
       "    <tr>\n",
       "      <th>0</th>\n",
       "      <td>https://bj.lianjia.com/chengjiao/101084782030....</td>\n",
       "      <td>101084782030</td>\n",
       "      <td>116.475489</td>\n",
       "      <td>40.019520</td>\n",
       "      <td>1111027376244</td>\n",
       "      <td>2016-08-09</td>\n",
       "      <td>1464.0</td>\n",
       "      <td>106</td>\n",
       "      <td>415.0</td>\n",
       "      <td>31680</td>\n",
       "      <td>...</td>\n",
       "      <td>1.0</td>\n",
       "      <td>2005</td>\n",
       "      <td>3</td>\n",
       "      <td>6</td>\n",
       "      <td>0.217</td>\n",
       "      <td>1.0</td>\n",
       "      <td>0.0</td>\n",
       "      <td>1.0</td>\n",
       "      <td>7</td>\n",
       "      <td>56021.0</td>\n",
       "    </tr>\n",
       "    <tr>\n",
       "      <th>1</th>\n",
       "      <td>https://bj.lianjia.com/chengjiao/101086012217....</td>\n",
       "      <td>101086012217</td>\n",
       "      <td>116.453917</td>\n",
       "      <td>39.881534</td>\n",
       "      <td>1111027381879</td>\n",
       "      <td>2016-07-28</td>\n",
       "      <td>903.0</td>\n",
       "      <td>126</td>\n",
       "      <td>575.0</td>\n",
       "      <td>43436</td>\n",
       "      <td>...</td>\n",
       "      <td>1.0</td>\n",
       "      <td>2004</td>\n",
       "      <td>4</td>\n",
       "      <td>6</td>\n",
       "      <td>0.667</td>\n",
       "      <td>1.0</td>\n",
       "      <td>1.0</td>\n",
       "      <td>0.0</td>\n",
       "      <td>7</td>\n",
       "      <td>71539.0</td>\n",
       "    </tr>\n",
       "    <tr>\n",
       "      <th>2</th>\n",
       "      <td>https://bj.lianjia.com/chengjiao/101086041636....</td>\n",
       "      <td>101086041636</td>\n",
       "      <td>116.561978</td>\n",
       "      <td>39.877145</td>\n",
       "      <td>1111040862969</td>\n",
       "      <td>2016-12-11</td>\n",
       "      <td>1271.0</td>\n",
       "      <td>48</td>\n",
       "      <td>1030.0</td>\n",
       "      <td>52021</td>\n",
       "      <td>...</td>\n",
       "      <td>4.0</td>\n",
       "      <td>2005</td>\n",
       "      <td>3</td>\n",
       "      <td>6</td>\n",
       "      <td>0.500</td>\n",
       "      <td>1.0</td>\n",
       "      <td>0.0</td>\n",
       "      <td>0.0</td>\n",
       "      <td>7</td>\n",
       "      <td>48160.0</td>\n",
       "    </tr>\n",
       "    <tr>\n",
       "      <th>3</th>\n",
       "      <td>https://bj.lianjia.com/chengjiao/101086406841....</td>\n",
       "      <td>101086406841</td>\n",
       "      <td>116.438010</td>\n",
       "      <td>40.076114</td>\n",
       "      <td>1111043185817</td>\n",
       "      <td>2016-09-30</td>\n",
       "      <td>965.0</td>\n",
       "      <td>138</td>\n",
       "      <td>297.5</td>\n",
       "      <td>22202</td>\n",
       "      <td>...</td>\n",
       "      <td>1.0</td>\n",
       "      <td>2008</td>\n",
       "      <td>1</td>\n",
       "      <td>6</td>\n",
       "      <td>0.273</td>\n",
       "      <td>1.0</td>\n",
       "      <td>0.0</td>\n",
       "      <td>0.0</td>\n",
       "      <td>6</td>\n",
       "      <td>51238.0</td>\n",
       "    </tr>\n",
       "    <tr>\n",
       "      <th>4</th>\n",
       "      <td>https://bj.lianjia.com/chengjiao/101086920653....</td>\n",
       "      <td>101086920653</td>\n",
       "      <td>116.428392</td>\n",
       "      <td>39.886229</td>\n",
       "      <td>1111027381174</td>\n",
       "      <td>2016-08-28</td>\n",
       "      <td>927.0</td>\n",
       "      <td>286</td>\n",
       "      <td>392.0</td>\n",
       "      <td>48396</td>\n",
       "      <td>...</td>\n",
       "      <td>4.0</td>\n",
       "      <td>1960</td>\n",
       "      <td>2</td>\n",
       "      <td>2</td>\n",
       "      <td>0.333</td>\n",
       "      <td>0.0</td>\n",
       "      <td>1.0</td>\n",
       "      <td>1.0</td>\n",
       "      <td>1</td>\n",
       "      <td>62588.0</td>\n",
       "    </tr>\n",
       "  </tbody>\n",
       "</table>\n",
       "<p>5 rows × 26 columns</p>\n",
       "</div>"
      ],
      "text/plain": [
       "                                                 url            id  \\\n",
       "0  https://bj.lianjia.com/chengjiao/101084782030....  101084782030   \n",
       "1  https://bj.lianjia.com/chengjiao/101086012217....  101086012217   \n",
       "2  https://bj.lianjia.com/chengjiao/101086041636....  101086041636   \n",
       "3  https://bj.lianjia.com/chengjiao/101086406841....  101086406841   \n",
       "4  https://bj.lianjia.com/chengjiao/101086920653....  101086920653   \n",
       "\n",
       "          Lng        Lat            Cid  tradeTime     DOM  followers  \\\n",
       "0  116.475489  40.019520  1111027376244 2016-08-09  1464.0        106   \n",
       "1  116.453917  39.881534  1111027381879 2016-07-28   903.0        126   \n",
       "2  116.561978  39.877145  1111040862969 2016-12-11  1271.0         48   \n",
       "3  116.438010  40.076114  1111043185817 2016-09-30   965.0        138   \n",
       "4  116.428392  39.886229  1111027381174 2016-08-28   927.0        286   \n",
       "\n",
       "   totalPrice  price  ...  buildingType constructionTime renovationCondition  \\\n",
       "0       415.0  31680  ...           1.0             2005                   3   \n",
       "1       575.0  43436  ...           1.0             2004                   4   \n",
       "2      1030.0  52021  ...           4.0             2005                   3   \n",
       "3       297.5  22202  ...           1.0             2008                   1   \n",
       "4       392.0  48396  ...           4.0             1960                   2   \n",
       "\n",
       "   buildingStructure ladderRatio elevator  fiveYearsProperty subway  district  \\\n",
       "0                  6       0.217      1.0                0.0    1.0         7   \n",
       "1                  6       0.667      1.0                1.0    0.0         7   \n",
       "2                  6       0.500      1.0                0.0    0.0         7   \n",
       "3                  6       0.273      1.0                0.0    0.0         6   \n",
       "4                  2       0.333      0.0                1.0    1.0         1   \n",
       "\n",
       "   communityAverage  \n",
       "0           56021.0  \n",
       "1           71539.0  \n",
       "2           48160.0  \n",
       "3           51238.0  \n",
       "4           62588.0  \n",
       "\n",
       "[5 rows x 26 columns]"
      ]
     },
     "execution_count": 3,
     "metadata": {},
     "output_type": "execute_result"
    }
   ],
   "source": [
    "beijing = pd.read_csv(\"../input/lianjia/new.csv\", parse_dates=[\"tradeTime\"], encoding='gb2312')\n",
    "print(beijing.columns.values)\n",
    "beijing.head()"
   ]
  },
  {
   "cell_type": "code",
   "execution_count": 4,
   "metadata": {
    "execution": {
     "iopub.execute_input": "2020-12-20T04:59:39.071051Z",
     "iopub.status.busy": "2020-12-20T04:59:39.067712Z",
     "iopub.status.idle": "2020-12-20T04:59:39.368244Z",
     "shell.execute_reply": "2020-12-20T04:59:39.367686Z"
    },
    "papermill": {
     "duration": 0.37186,
     "end_time": "2020-12-20T04:59:39.368367",
     "exception": false,
     "start_time": "2020-12-20T04:59:38.996507",
     "status": "completed"
    },
    "tags": []
   },
   "outputs": [
    {
     "data": {
      "text/html": [
       "<div>\n",
       "<style scoped>\n",
       "    .dataframe tbody tr th:only-of-type {\n",
       "        vertical-align: middle;\n",
       "    }\n",
       "\n",
       "    .dataframe tbody tr th {\n",
       "        vertical-align: top;\n",
       "    }\n",
       "\n",
       "    .dataframe thead th {\n",
       "        text-align: right;\n",
       "    }\n",
       "</style>\n",
       "<table border=\"1\" class=\"dataframe\">\n",
       "  <thead>\n",
       "    <tr style=\"text-align: right;\">\n",
       "      <th></th>\n",
       "      <th>Lng</th>\n",
       "      <th>Lat</th>\n",
       "      <th>Cid</th>\n",
       "      <th>DOM</th>\n",
       "      <th>followers</th>\n",
       "      <th>totalPrice</th>\n",
       "      <th>price</th>\n",
       "      <th>square</th>\n",
       "      <th>kitchen</th>\n",
       "      <th>buildingType</th>\n",
       "      <th>renovationCondition</th>\n",
       "      <th>buildingStructure</th>\n",
       "      <th>ladderRatio</th>\n",
       "      <th>elevator</th>\n",
       "      <th>fiveYearsProperty</th>\n",
       "      <th>subway</th>\n",
       "      <th>district</th>\n",
       "      <th>communityAverage</th>\n",
       "    </tr>\n",
       "  </thead>\n",
       "  <tbody>\n",
       "    <tr>\n",
       "      <th>count</th>\n",
       "      <td>318851.000000</td>\n",
       "      <td>318851.000000</td>\n",
       "      <td>3.188510e+05</td>\n",
       "      <td>160874.000000</td>\n",
       "      <td>318851.000000</td>\n",
       "      <td>318851.000000</td>\n",
       "      <td>318851.000000</td>\n",
       "      <td>318851.000000</td>\n",
       "      <td>318851.000000</td>\n",
       "      <td>316830.000000</td>\n",
       "      <td>318851.000000</td>\n",
       "      <td>318851.000000</td>\n",
       "      <td>3.188510e+05</td>\n",
       "      <td>318819.000000</td>\n",
       "      <td>318819.000000</td>\n",
       "      <td>318819.000000</td>\n",
       "      <td>318851.000000</td>\n",
       "      <td>318388.000000</td>\n",
       "    </tr>\n",
       "    <tr>\n",
       "      <th>mean</th>\n",
       "      <td>116.418459</td>\n",
       "      <td>39.949591</td>\n",
       "      <td>1.129113e+12</td>\n",
       "      <td>28.822339</td>\n",
       "      <td>16.731508</td>\n",
       "      <td>349.030201</td>\n",
       "      <td>43530.436379</td>\n",
       "      <td>83.240597</td>\n",
       "      <td>0.994599</td>\n",
       "      <td>3.009790</td>\n",
       "      <td>2.606330</td>\n",
       "      <td>4.451026</td>\n",
       "      <td>6.316486e+01</td>\n",
       "      <td>0.577055</td>\n",
       "      <td>0.645601</td>\n",
       "      <td>0.601112</td>\n",
       "      <td>6.763564</td>\n",
       "      <td>63682.446305</td>\n",
       "    </tr>\n",
       "    <tr>\n",
       "      <th>std</th>\n",
       "      <td>0.112054</td>\n",
       "      <td>0.091983</td>\n",
       "      <td>2.363447e+12</td>\n",
       "      <td>50.237343</td>\n",
       "      <td>34.209185</td>\n",
       "      <td>230.780778</td>\n",
       "      <td>21709.024204</td>\n",
       "      <td>37.234661</td>\n",
       "      <td>0.109609</td>\n",
       "      <td>1.269857</td>\n",
       "      <td>1.311739</td>\n",
       "      <td>1.901753</td>\n",
       "      <td>2.506851e+04</td>\n",
       "      <td>0.494028</td>\n",
       "      <td>0.478331</td>\n",
       "      <td>0.489670</td>\n",
       "      <td>2.812616</td>\n",
       "      <td>22329.215447</td>\n",
       "    </tr>\n",
       "    <tr>\n",
       "      <th>min</th>\n",
       "      <td>116.072514</td>\n",
       "      <td>39.627030</td>\n",
       "      <td>1.111027e+12</td>\n",
       "      <td>1.000000</td>\n",
       "      <td>0.000000</td>\n",
       "      <td>0.100000</td>\n",
       "      <td>1.000000</td>\n",
       "      <td>6.900000</td>\n",
       "      <td>0.000000</td>\n",
       "      <td>0.048000</td>\n",
       "      <td>0.000000</td>\n",
       "      <td>0.000000</td>\n",
       "      <td>0.000000e+00</td>\n",
       "      <td>0.000000</td>\n",
       "      <td>0.000000</td>\n",
       "      <td>0.000000</td>\n",
       "      <td>1.000000</td>\n",
       "      <td>10847.000000</td>\n",
       "    </tr>\n",
       "    <tr>\n",
       "      <th>25%</th>\n",
       "      <td>116.344985</td>\n",
       "      <td>39.893200</td>\n",
       "      <td>1.111027e+12</td>\n",
       "      <td>1.000000</td>\n",
       "      <td>0.000000</td>\n",
       "      <td>205.000000</td>\n",
       "      <td>28050.000000</td>\n",
       "      <td>57.900000</td>\n",
       "      <td>1.000000</td>\n",
       "      <td>1.000000</td>\n",
       "      <td>1.000000</td>\n",
       "      <td>2.000000</td>\n",
       "      <td>2.500000e-01</td>\n",
       "      <td>0.000000</td>\n",
       "      <td>0.000000</td>\n",
       "      <td>0.000000</td>\n",
       "      <td>6.000000</td>\n",
       "      <td>46339.000000</td>\n",
       "    </tr>\n",
       "    <tr>\n",
       "      <th>50%</th>\n",
       "      <td>116.416780</td>\n",
       "      <td>39.934527</td>\n",
       "      <td>1.111027e+12</td>\n",
       "      <td>6.000000</td>\n",
       "      <td>5.000000</td>\n",
       "      <td>294.000000</td>\n",
       "      <td>38737.000000</td>\n",
       "      <td>74.260000</td>\n",
       "      <td>1.000000</td>\n",
       "      <td>4.000000</td>\n",
       "      <td>3.000000</td>\n",
       "      <td>6.000000</td>\n",
       "      <td>3.330000e-01</td>\n",
       "      <td>1.000000</td>\n",
       "      <td>1.000000</td>\n",
       "      <td>1.000000</td>\n",
       "      <td>7.000000</td>\n",
       "      <td>59015.000000</td>\n",
       "    </tr>\n",
       "    <tr>\n",
       "      <th>75%</th>\n",
       "      <td>116.477581</td>\n",
       "      <td>40.003018</td>\n",
       "      <td>1.111027e+12</td>\n",
       "      <td>37.000000</td>\n",
       "      <td>18.000000</td>\n",
       "      <td>425.500000</td>\n",
       "      <td>53819.500000</td>\n",
       "      <td>98.710000</td>\n",
       "      <td>1.000000</td>\n",
       "      <td>4.000000</td>\n",
       "      <td>4.000000</td>\n",
       "      <td>6.000000</td>\n",
       "      <td>5.000000e-01</td>\n",
       "      <td>1.000000</td>\n",
       "      <td>1.000000</td>\n",
       "      <td>1.000000</td>\n",
       "      <td>8.000000</td>\n",
       "      <td>75950.000000</td>\n",
       "    </tr>\n",
       "    <tr>\n",
       "      <th>max</th>\n",
       "      <td>116.732378</td>\n",
       "      <td>40.252758</td>\n",
       "      <td>1.114620e+15</td>\n",
       "      <td>1677.000000</td>\n",
       "      <td>1143.000000</td>\n",
       "      <td>18130.000000</td>\n",
       "      <td>156250.000000</td>\n",
       "      <td>1745.500000</td>\n",
       "      <td>4.000000</td>\n",
       "      <td>4.000000</td>\n",
       "      <td>4.000000</td>\n",
       "      <td>6.000000</td>\n",
       "      <td>1.000940e+07</td>\n",
       "      <td>1.000000</td>\n",
       "      <td>1.000000</td>\n",
       "      <td>1.000000</td>\n",
       "      <td>13.000000</td>\n",
       "      <td>183109.000000</td>\n",
       "    </tr>\n",
       "  </tbody>\n",
       "</table>\n",
       "</div>"
      ],
      "text/plain": [
       "                 Lng            Lat           Cid            DOM  \\\n",
       "count  318851.000000  318851.000000  3.188510e+05  160874.000000   \n",
       "mean      116.418459      39.949591  1.129113e+12      28.822339   \n",
       "std         0.112054       0.091983  2.363447e+12      50.237343   \n",
       "min       116.072514      39.627030  1.111027e+12       1.000000   \n",
       "25%       116.344985      39.893200  1.111027e+12       1.000000   \n",
       "50%       116.416780      39.934527  1.111027e+12       6.000000   \n",
       "75%       116.477581      40.003018  1.111027e+12      37.000000   \n",
       "max       116.732378      40.252758  1.114620e+15    1677.000000   \n",
       "\n",
       "           followers     totalPrice          price         square  \\\n",
       "count  318851.000000  318851.000000  318851.000000  318851.000000   \n",
       "mean       16.731508     349.030201   43530.436379      83.240597   \n",
       "std        34.209185     230.780778   21709.024204      37.234661   \n",
       "min         0.000000       0.100000       1.000000       6.900000   \n",
       "25%         0.000000     205.000000   28050.000000      57.900000   \n",
       "50%         5.000000     294.000000   38737.000000      74.260000   \n",
       "75%        18.000000     425.500000   53819.500000      98.710000   \n",
       "max      1143.000000   18130.000000  156250.000000    1745.500000   \n",
       "\n",
       "             kitchen   buildingType  renovationCondition  buildingStructure  \\\n",
       "count  318851.000000  316830.000000        318851.000000      318851.000000   \n",
       "mean        0.994599       3.009790             2.606330           4.451026   \n",
       "std         0.109609       1.269857             1.311739           1.901753   \n",
       "min         0.000000       0.048000             0.000000           0.000000   \n",
       "25%         1.000000       1.000000             1.000000           2.000000   \n",
       "50%         1.000000       4.000000             3.000000           6.000000   \n",
       "75%         1.000000       4.000000             4.000000           6.000000   \n",
       "max         4.000000       4.000000             4.000000           6.000000   \n",
       "\n",
       "        ladderRatio       elevator  fiveYearsProperty         subway  \\\n",
       "count  3.188510e+05  318819.000000      318819.000000  318819.000000   \n",
       "mean   6.316486e+01       0.577055           0.645601       0.601112   \n",
       "std    2.506851e+04       0.494028           0.478331       0.489670   \n",
       "min    0.000000e+00       0.000000           0.000000       0.000000   \n",
       "25%    2.500000e-01       0.000000           0.000000       0.000000   \n",
       "50%    3.330000e-01       1.000000           1.000000       1.000000   \n",
       "75%    5.000000e-01       1.000000           1.000000       1.000000   \n",
       "max    1.000940e+07       1.000000           1.000000       1.000000   \n",
       "\n",
       "            district  communityAverage  \n",
       "count  318851.000000     318388.000000  \n",
       "mean        6.763564      63682.446305  \n",
       "std         2.812616      22329.215447  \n",
       "min         1.000000      10847.000000  \n",
       "25%         6.000000      46339.000000  \n",
       "50%         7.000000      59015.000000  \n",
       "75%         8.000000      75950.000000  \n",
       "max        13.000000     183109.000000  "
      ]
     },
     "execution_count": 4,
     "metadata": {},
     "output_type": "execute_result"
    }
   ],
   "source": [
    "beijing.describe()"
   ]
  },
  {
   "cell_type": "code",
   "execution_count": 5,
   "metadata": {
    "execution": {
     "iopub.execute_input": "2020-12-20T04:59:39.508569Z",
     "iopub.status.busy": "2020-12-20T04:59:39.507789Z",
     "iopub.status.idle": "2020-12-20T04:59:39.661191Z",
     "shell.execute_reply": "2020-12-20T04:59:39.660600Z"
    },
    "papermill": {
     "duration": 0.225482,
     "end_time": "2020-12-20T04:59:39.661307",
     "exception": false,
     "start_time": "2020-12-20T04:59:39.435825",
     "status": "completed"
    },
    "tags": []
   },
   "outputs": [],
   "source": [
    "beijing.drop(\"Cid\", axis = 1, inplace=True)\n",
    "beijing.drop(\"id\", axis = 1, inplace=True)\n",
    "beijing.drop(\"url\", axis = 1, inplace=True)\n",
    "beijing.drop(\"price\", axis = 1, inplace=True)"
   ]
  },
  {
   "cell_type": "code",
   "execution_count": 6,
   "metadata": {
    "execution": {
     "iopub.execute_input": "2020-12-20T04:59:39.789435Z",
     "iopub.status.busy": "2020-12-20T04:59:39.788749Z",
     "iopub.status.idle": "2020-12-20T04:59:39.990333Z",
     "shell.execute_reply": "2020-12-20T04:59:39.989382Z"
    },
    "papermill": {
     "duration": 0.267752,
     "end_time": "2020-12-20T04:59:39.990561",
     "exception": false,
     "start_time": "2020-12-20T04:59:39.722809",
     "status": "completed"
    },
    "tags": []
   },
   "outputs": [
    {
     "name": "stdout",
     "output_type": "stream",
     "text": [
      "<class 'pandas.core.frame.DataFrame'>\n",
      "RangeIndex: 318851 entries, 0 to 318850\n",
      "Data columns (total 22 columns):\n",
      " #   Column               Non-Null Count   Dtype         \n",
      "---  ------               --------------   -----         \n",
      " 0   Lng                  318851 non-null  float64       \n",
      " 1   Lat                  318851 non-null  float64       \n",
      " 2   tradeTime            318851 non-null  datetime64[ns]\n",
      " 3   DOM                  160874 non-null  float64       \n",
      " 4   followers            318851 non-null  int64         \n",
      " 5   totalPrice           318851 non-null  float64       \n",
      " 6   square               318851 non-null  float64       \n",
      " 7   livingRoom           318851 non-null  object        \n",
      " 8   drawingRoom          318851 non-null  object        \n",
      " 9   kitchen              318851 non-null  int64         \n",
      " 10  bathRoom             318851 non-null  object        \n",
      " 11  floor                318851 non-null  object        \n",
      " 12  buildingType         316830 non-null  float64       \n",
      " 13  constructionTime     318851 non-null  object        \n",
      " 14  renovationCondition  318851 non-null  int64         \n",
      " 15  buildingStructure    318851 non-null  int64         \n",
      " 16  ladderRatio          318851 non-null  float64       \n",
      " 17  elevator             318819 non-null  float64       \n",
      " 18  fiveYearsProperty    318819 non-null  float64       \n",
      " 19  subway               318819 non-null  float64       \n",
      " 20  district             318851 non-null  int64         \n",
      " 21  communityAverage     318388 non-null  float64       \n",
      "dtypes: datetime64[ns](1), float64(11), int64(5), object(5)\n",
      "memory usage: 53.5+ MB\n"
     ]
    }
   ],
   "source": [
    "beijing.info()"
   ]
  },
  {
   "cell_type": "markdown",
   "metadata": {
    "papermill": {
     "duration": 0.066646,
     "end_time": "2020-12-20T04:59:40.125186",
     "exception": false,
     "start_time": "2020-12-20T04:59:40.058540",
     "status": "completed"
    },
    "tags": []
   },
   "source": [
    "## Data cleaning"
   ]
  },
  {
   "cell_type": "markdown",
   "metadata": {
    "papermill": {
     "duration": 0.063562,
     "end_time": "2020-12-20T04:59:40.254262",
     "exception": false,
     "start_time": "2020-12-20T04:59:40.190700",
     "status": "completed"
    },
    "tags": []
   },
   "source": [
    "#### Cleaning factor variables"
   ]
  },
  {
   "cell_type": "code",
   "execution_count": 7,
   "metadata": {
    "execution": {
     "iopub.execute_input": "2020-12-20T04:59:40.387801Z",
     "iopub.status.busy": "2020-12-20T04:59:40.387055Z",
     "iopub.status.idle": "2020-12-20T04:59:40.515238Z",
     "shell.execute_reply": "2020-12-20T04:59:40.514169Z"
    },
    "papermill": {
     "duration": 0.197078,
     "end_time": "2020-12-20T04:59:40.515454",
     "exception": false,
     "start_time": "2020-12-20T04:59:40.318376",
     "status": "completed"
    },
    "tags": []
   },
   "outputs": [
    {
     "name": "stdout",
     "output_type": "stream",
     "text": [
      "livingRoom: [2 3 1 4 5 6 9 0 7 8 '1' '4' '3' '2' '5' '7' '9' '6' '0' '#NAME?' '8']\n",
      "\n",
      "drawingRoom: [1 2 0 4 3 5 '0' '1' '2' '3' '4' '中 14' '中 15' '中 16' '中 6' '高 14' '顶 6'\n",
      " '低 6' '低 16' '高 12' '低 15' '5' '高 6' '底 28' '底 11' '中 24' '底 20' '中 22']\n",
      "\n",
      "bathRoom: [1 2 3 0 4 5 6 7 2006 2003 1990 2000 1996 2005 2011 '1' '2' '0' '3' '4'\n",
      " '5' '未知' 1994 2004 '2003' '7']\n",
      "\n",
      "floor: ['高 26' '高 22' '中 4' '底 21' '中 6' '中 8' '高 6' '高 10' '中 23' '底 11' '底 3'\n",
      " '高 24' '低 23' '中 19' '高 18' '低 25' '中 12' '中 14' '中 30' '中 27' '中 5'\n",
      " '低 18' '底 28' '中 11' '低 9' '顶 7' '顶 27' '低 6' '中 17' '顶 6' '中 24' '中 15'\n",
      " '底 5' '中 29' '顶 19' '顶 5' '中 9' '低 22' '顶 18' '低 16' '高 13' '高 9' '高 17'\n",
      " '底 6' '中 28' '低 26' '底 15' '高 16' '底 2' '低 7' '中 13' '低 33' '底 14' '高 15'\n",
      " '底 4' '顶 11' '中 32' '顶 16' '底 18' '顶 17' '低 14' '低 10' '底 20' '高 12'\n",
      " '低 31' '低 30' '低 19' '低 12' '中 10' '中 16' '顶 20' '底 19' '中 31' '低 13'\n",
      " '底 10' '高 25' '中 21' '中 20' '高 20' '低 21' '低 24' '顶 4' '高 21' '高 7'\n",
      " '中 22' '底 1' '中 7' '底 8' '顶 15' '中 18' '高 28' '顶 14' '顶 13' '低 20' '底 26'\n",
      " '低 17' '顶 24' '底 23' '顶 3' '顶 21' '底 24' '高 30' '高 11' '底 25' '高 27'\n",
      " '底 9' '低 11' '低 28' '低 15' '顶 26' '低 34' '顶 12' '中 25' '高 8' '底 17'\n",
      " '高 32' '高 19' '底 7' '顶 28' '顶 9' '高 31' '中 26' '顶 2' '顶 8' '底 32' '中 42'\n",
      " '底 30' '低 32' '底 16' '低 3' '底 22' '高 14' '高 23' '底 27' '底 13' '低 27'\n",
      " '顶 23' '低 29' '顶 22' '高 29' '中 34' '顶 25' '高 34' '顶 10' '低 37' '底 12'\n",
      " '未知 6' '顶 32' '低 42' '顶 30' '底 33' '高 42' '低 8' '高 33' '中 33' '顶 29'\n",
      " '底 29' '未知 15' '高 37' '低 36' '低 35' '顶 34' '高 36' '中 37' '中 35' '底 31'\n",
      " '未知 12' '顶 31' '低 63' '未知 21' '底 34' '中 57' '顶 33' '钢混结构' '混合结构' '未知 11'\n",
      " '未知 7' '未知 10' '未知 18' '未知 8' '未知 14' '未知 4' '未知 5' '未知 3' '未知 27'\n",
      " '未知 25' '未知 20' '未知 26' '未知 9' '未知 22' '未知 23' '未知 16' '未知 19' '未知 28'\n",
      " '中 36' '未知 17' '未知 13' '低 2' '未知 29' '未知 24' '未知 30' '未知 31' '低 5']\n",
      "\n",
      "constructionTime: ['2005' '2004' '2008' '1960' '1997' '2009' '2006' '1991' '2001' '1990'\n",
      " '2011' '2000' '1998' '2010' '1996' '1993' '2002' '未知' '2012' '1989'\n",
      " '2003' '2007' '1994' '1984' '1992' '2014' '1985' '2013' '1999' '1979'\n",
      " '1981' '1976' '1982' '1975' '1983' '1986' '1995' '1965' '1988' '1987'\n",
      " '2015' '1955' '1980' '1978' '1958' '1970' '1956' '1977' '1964' '1963'\n",
      " '1967' '2016' '1974' '1973' '1959' '1954' '1962' '1966' '1957' '1944'\n",
      " '1972' '1971' '1953' '1968' '1961' '1950' '1952' '1933' '1969' '1' '0'\n",
      " '1906' '1934' '1914']\n",
      "\n"
     ]
    }
   ],
   "source": [
    "for row in range(beijing.shape[1]):\n",
    "    if(beijing.iloc[:,row].dtype==\"O\"):\n",
    "        print(\"{}: {}\\n\".format(beijing.columns[row],beijing.iloc[:,row].unique()))"
   ]
  },
  {
   "cell_type": "code",
   "execution_count": 8,
   "metadata": {
    "execution": {
     "iopub.execute_input": "2020-12-20T04:59:40.686166Z",
     "iopub.status.busy": "2020-12-20T04:59:40.685407Z",
     "iopub.status.idle": "2020-12-20T04:59:41.799736Z",
     "shell.execute_reply": "2020-12-20T04:59:41.800249Z"
    },
    "papermill": {
     "duration": 1.218305,
     "end_time": "2020-12-20T04:59:41.800422",
     "exception": false,
     "start_time": "2020-12-20T04:59:40.582117",
     "status": "completed"
    },
    "tags": []
   },
   "outputs": [],
   "source": [
    "beijing.iloc[:,11] = np.array(beijing.iloc[:,11].str.extract(\"([0-9]+)\")).reshape(-1,1)"
   ]
  },
  {
   "cell_type": "code",
   "execution_count": 9,
   "metadata": {
    "execution": {
     "iopub.execute_input": "2020-12-20T04:59:41.929253Z",
     "iopub.status.busy": "2020-12-20T04:59:41.928541Z",
     "iopub.status.idle": "2020-12-20T04:59:43.278691Z",
     "shell.execute_reply": "2020-12-20T04:59:43.279206Z"
    },
    "papermill": {
     "duration": 1.416357,
     "end_time": "2020-12-20T04:59:43.279368",
     "exception": false,
     "start_time": "2020-12-20T04:59:41.863011",
     "status": "completed"
    },
    "tags": []
   },
   "outputs": [],
   "source": [
    "sel = [7,8,10,11,13]\n",
    "for s in sel:\n",
    "    beijing.iloc[:,s] = pd.to_numeric(beijing.iloc[:,s], errors='coerce')"
   ]
  },
  {
   "cell_type": "markdown",
   "metadata": {
    "papermill": {
     "duration": 0.062439,
     "end_time": "2020-12-20T04:59:43.405027",
     "exception": false,
     "start_time": "2020-12-20T04:59:43.342588",
     "status": "completed"
    },
    "tags": []
   },
   "source": [
    "#### Removing missing values"
   ]
  },
  {
   "cell_type": "code",
   "execution_count": 10,
   "metadata": {
    "execution": {
     "iopub.execute_input": "2020-12-20T04:59:43.538513Z",
     "iopub.status.busy": "2020-12-20T04:59:43.537757Z",
     "iopub.status.idle": "2020-12-20T04:59:43.583085Z",
     "shell.execute_reply": "2020-12-20T04:59:43.582355Z"
    },
    "papermill": {
     "duration": 0.112846,
     "end_time": "2020-12-20T04:59:43.583216",
     "exception": false,
     "start_time": "2020-12-20T04:59:43.470370",
     "status": "completed"
    },
    "tags": []
   },
   "outputs": [
    {
     "data": {
      "text/plain": [
       "Lng                     0.000000\n",
       "Lat                     0.000000\n",
       "tradeTime               0.000000\n",
       "DOM                    49.545713\n",
       "followers               0.000000\n",
       "totalPrice              0.000000\n",
       "square                  0.000000\n",
       "livingRoom              0.010036\n",
       "drawingRoom             0.010036\n",
       "kitchen                 0.000000\n",
       "bathRoom                0.000627\n",
       "floor                   0.010036\n",
       "buildingType            0.633838\n",
       "constructionTime        6.047652\n",
       "renovationCondition     0.000000\n",
       "buildingStructure       0.000000\n",
       "ladderRatio             0.000000\n",
       "elevator                0.010036\n",
       "fiveYearsProperty       0.010036\n",
       "subway                  0.010036\n",
       "district                0.000000\n",
       "communityAverage        0.145209\n",
       "dtype: float64"
      ]
     },
     "execution_count": 10,
     "metadata": {},
     "output_type": "execute_result"
    }
   ],
   "source": [
    "beijing.isna().mean()*100"
   ]
  },
  {
   "cell_type": "markdown",
   "metadata": {
    "papermill": {
     "duration": 0.065215,
     "end_time": "2020-12-20T04:59:43.713332",
     "exception": false,
     "start_time": "2020-12-20T04:59:43.648117",
     "status": "completed"
    },
    "tags": []
   },
   "source": [
    "Understanding distribution of DOM column"
   ]
  },
  {
   "cell_type": "code",
   "execution_count": 11,
   "metadata": {
    "execution": {
     "iopub.execute_input": "2020-12-20T04:59:43.861096Z",
     "iopub.status.busy": "2020-12-20T04:59:43.860404Z",
     "iopub.status.idle": "2020-12-20T04:59:44.073710Z",
     "shell.execute_reply": "2020-12-20T04:59:44.072978Z"
    },
    "papermill": {
     "duration": 0.287571,
     "end_time": "2020-12-20T04:59:44.073850",
     "exception": false,
     "start_time": "2020-12-20T04:59:43.786279",
     "status": "completed"
    },
    "tags": []
   },
   "outputs": [
    {
     "data": {
      "image/png": "[encoded data removed]",
      "text/plain": [
       "<Figure size 432x288 with 1 Axes>"
      ]
     },
     "metadata": {
      "needs_background": "light"
     },
     "output_type": "display_data"
    }
   ],
   "source": [
    "plt.clf()\n",
    "sns.boxplot(y = beijing[\"DOM\"])\n",
    "plt.xlabel(\"DOM\")\n",
    "plt.ylabel(\"distribution\")\n",
    "plt.show()"
   ]
  },
  {
   "cell_type": "code",
   "execution_count": 12,
   "metadata": {
    "execution": {
     "iopub.execute_input": "2020-12-20T04:59:44.219182Z",
     "iopub.status.busy": "2020-12-20T04:59:44.212205Z",
     "iopub.status.idle": "2020-12-20T04:59:44.402748Z",
     "shell.execute_reply": "2020-12-20T04:59:44.402140Z"
    },
    "papermill": {
     "duration": 0.263469,
     "end_time": "2020-12-20T04:59:44.402875",
     "exception": false,
     "start_time": "2020-12-20T04:59:44.139406",
     "status": "completed"
    },
    "tags": []
   },
   "outputs": [
    {
     "data": {
      "image/png": "[encoded data removed]",
      "text/plain": [
       "<Figure size 432x288 with 1 Axes>"
      ]
     },
     "metadata": {
      "needs_background": "light"
     },
     "output_type": "display_data"
    }
   ],
   "source": [
    "plt.clf()\n",
    "sns.kdeplot(data = beijing.loc[:,\"DOM\"])\n",
    "plt.show()"
   ]
  },
  {
   "cell_type": "code",
   "execution_count": 13,
   "metadata": {
    "execution": {
     "iopub.execute_input": "2020-12-20T04:59:44.569828Z",
     "iopub.status.busy": "2020-12-20T04:59:44.568757Z",
     "iopub.status.idle": "2020-12-20T04:59:44.580987Z",
     "shell.execute_reply": "2020-12-20T04:59:44.581804Z"
    },
    "papermill": {
     "duration": 0.087251,
     "end_time": "2020-12-20T04:59:44.582022",
     "exception": false,
     "start_time": "2020-12-20T04:59:44.494771",
     "status": "completed"
    },
    "tags": []
   },
   "outputs": [
    {
     "data": {
      "text/plain": [
       "0.25       1.0\n",
       "0.50       6.0\n",
       "0.75      37.0\n",
       "1.00    1677.0\n",
       "Name: DOM, dtype: float64"
      ]
     },
     "execution_count": 13,
     "metadata": {},
     "output_type": "execute_result"
    }
   ],
   "source": [
    "beijing[\"DOM\"].quantile([0.25,0.5,0.75,1])"
   ]
  },
  {
   "cell_type": "markdown",
   "metadata": {
    "papermill": {
     "duration": 0.076821,
     "end_time": "2020-12-20T04:59:44.751665",
     "exception": false,
     "start_time": "2020-12-20T04:59:44.674844",
     "status": "completed"
    },
    "tags": []
   },
   "source": [
    "Majority of the data sits outside the upper whiskers, we impute the missing values using the median"
   ]
  },
  {
   "cell_type": "code",
   "execution_count": 14,
   "metadata": {
    "execution": {
     "iopub.execute_input": "2020-12-20T04:59:44.891407Z",
     "iopub.status.busy": "2020-12-20T04:59:44.890364Z",
     "iopub.status.idle": "2020-12-20T04:59:44.900955Z",
     "shell.execute_reply": "2020-12-20T04:59:44.900317Z"
    },
    "papermill": {
     "duration": 0.083664,
     "end_time": "2020-12-20T04:59:44.901094",
     "exception": false,
     "start_time": "2020-12-20T04:59:44.817430",
     "status": "completed"
    },
    "tags": []
   },
   "outputs": [],
   "source": [
    "beijing[\"DOM\"] = beijing[\"DOM\"].fillna(beijing[\"DOM\"].median())"
   ]
  },
  {
   "cell_type": "markdown",
   "metadata": {
    "papermill": {
     "duration": 0.068206,
     "end_time": "2020-12-20T04:59:45.037086",
     "exception": false,
     "start_time": "2020-12-20T04:59:44.968880",
     "status": "completed"
    },
    "tags": []
   },
   "source": [
    "Removing the other records from the dataset having missing values"
   ]
  },
  {
   "cell_type": "code",
   "execution_count": 15,
   "metadata": {
    "execution": {
     "iopub.execute_input": "2020-12-20T04:59:45.187796Z",
     "iopub.status.busy": "2020-12-20T04:59:45.185637Z",
     "iopub.status.idle": "2020-12-20T04:59:45.258828Z",
     "shell.execute_reply": "2020-12-20T04:59:45.259624Z"
    },
    "papermill": {
     "duration": 0.150539,
     "end_time": "2020-12-20T04:59:45.259840",
     "exception": false,
     "start_time": "2020-12-20T04:59:45.109301",
     "status": "completed"
    },
    "tags": []
   },
   "outputs": [],
   "source": [
    "beijing.dropna(axis = 0, how = \"any\", inplace = True)"
   ]
  },
  {
   "cell_type": "code",
   "execution_count": 16,
   "metadata": {
    "execution": {
     "iopub.execute_input": "2020-12-20T04:59:45.400836Z",
     "iopub.status.busy": "2020-12-20T04:59:45.400057Z",
     "iopub.status.idle": "2020-12-20T04:59:45.518519Z",
     "shell.execute_reply": "2020-12-20T04:59:45.517782Z"
    },
    "papermill": {
     "duration": 0.19346,
     "end_time": "2020-12-20T04:59:45.518642",
     "exception": false,
     "start_time": "2020-12-20T04:59:45.325182",
     "status": "completed"
    },
    "tags": []
   },
   "outputs": [],
   "source": [
    "beijing = beijing.astype({\"DOM\":\"int64\",\"livingRoom\":\"int64\",\"drawingRoom\":\"int64\",\"bathRoom\":\"int64\",\"floor\":\"int64\",\n",
    "                          \"buildingType\":\"O\",\"constructionTime\":\"int64\",\"renovationCondition\":\"O\",\"buildingStructure\":\"O\",\n",
    "                          \"elevator\":\"O\", \"fiveYearsProperty\":\"O\",\"subway\":\"O\",\"district\":\"O\"}, errors = 'ignore')"
   ]
  },
  {
   "cell_type": "code",
   "execution_count": 17,
   "metadata": {
    "execution": {
     "iopub.execute_input": "2020-12-20T04:59:45.657381Z",
     "iopub.status.busy": "2020-12-20T04:59:45.656692Z",
     "iopub.status.idle": "2020-12-20T04:59:45.825372Z",
     "shell.execute_reply": "2020-12-20T04:59:45.826151Z"
    },
    "papermill": {
     "duration": 0.239891,
     "end_time": "2020-12-20T04:59:45.826358",
     "exception": false,
     "start_time": "2020-12-20T04:59:45.586467",
     "status": "completed"
    },
    "tags": []
   },
   "outputs": [
    {
     "name": "stdout",
     "output_type": "stream",
     "text": [
      "<class 'pandas.core.frame.DataFrame'>\n",
      "Int64Index: 297701 entries, 0 to 318849\n",
      "Data columns (total 22 columns):\n",
      " #   Column               Non-Null Count   Dtype         \n",
      "---  ------               --------------   -----         \n",
      " 0   Lng                  297701 non-null  float64       \n",
      " 1   Lat                  297701 non-null  float64       \n",
      " 2   tradeTime            297701 non-null  datetime64[ns]\n",
      " 3   DOM                  297701 non-null  int64         \n",
      " 4   followers            297701 non-null  int64         \n",
      " 5   totalPrice           297701 non-null  float64       \n",
      " 6   square               297701 non-null  float64       \n",
      " 7   livingRoom           297701 non-null  int64         \n",
      " 8   drawingRoom          297701 non-null  int64         \n",
      " 9   kitchen              297701 non-null  int64         \n",
      " 10  bathRoom             297701 non-null  int64         \n",
      " 11  floor                297701 non-null  int64         \n",
      " 12  buildingType         297701 non-null  object        \n",
      " 13  constructionTime     297701 non-null  int64         \n",
      " 14  renovationCondition  297701 non-null  object        \n",
      " 15  buildingStructure    297701 non-null  object        \n",
      " 16  ladderRatio          297701 non-null  float64       \n",
      " 17  elevator             297701 non-null  object        \n",
      " 18  fiveYearsProperty    297701 non-null  object        \n",
      " 19  subway               297701 non-null  object        \n",
      " 20  district             297701 non-null  object        \n",
      " 21  communityAverage     297701 non-null  float64       \n",
      "dtypes: datetime64[ns](1), float64(6), int64(8), object(7)\n",
      "memory usage: 52.2+ MB\n"
     ]
    }
   ],
   "source": [
    "beijing.info()"
   ]
  },
  {
   "cell_type": "markdown",
   "metadata": {
    "papermill": {
     "duration": 0.066389,
     "end_time": "2020-12-20T04:59:45.960600",
     "exception": false,
     "start_time": "2020-12-20T04:59:45.894211",
     "status": "completed"
    },
    "tags": []
   },
   "source": [
    "Moving response feature to the right end of the dataframe"
   ]
  },
  {
   "cell_type": "code",
   "execution_count": 18,
   "metadata": {
    "execution": {
     "iopub.execute_input": "2020-12-20T04:59:46.119795Z",
     "iopub.status.busy": "2020-12-20T04:59:46.119065Z",
     "iopub.status.idle": "2020-12-20T04:59:46.211665Z",
     "shell.execute_reply": "2020-12-20T04:59:46.212638Z"
    },
    "papermill": {
     "duration": 0.181927,
     "end_time": "2020-12-20T04:59:46.212831",
     "exception": false,
     "start_time": "2020-12-20T04:59:46.030904",
     "status": "completed"
    },
    "tags": []
   },
   "outputs": [
    {
     "data": {
      "text/html": [
       "<div>\n",
       "<style scoped>\n",
       "    .dataframe tbody tr th:only-of-type {\n",
       "        vertical-align: middle;\n",
       "    }\n",
       "\n",
       "    .dataframe tbody tr th {\n",
       "        vertical-align: top;\n",
       "    }\n",
       "\n",
       "    .dataframe thead th {\n",
       "        text-align: right;\n",
       "    }\n",
       "</style>\n",
       "<table border=\"1\" class=\"dataframe\">\n",
       "  <thead>\n",
       "    <tr style=\"text-align: right;\">\n",
       "      <th></th>\n",
       "      <th>Lng</th>\n",
       "      <th>Lat</th>\n",
       "      <th>tradeTime</th>\n",
       "      <th>DOM</th>\n",
       "      <th>followers</th>\n",
       "      <th>square</th>\n",
       "      <th>livingRoom</th>\n",
       "      <th>drawingRoom</th>\n",
       "      <th>kitchen</th>\n",
       "      <th>bathRoom</th>\n",
       "      <th>...</th>\n",
       "      <th>constructionTime</th>\n",
       "      <th>renovationCondition</th>\n",
       "      <th>buildingStructure</th>\n",
       "      <th>ladderRatio</th>\n",
       "      <th>elevator</th>\n",
       "      <th>fiveYearsProperty</th>\n",
       "      <th>subway</th>\n",
       "      <th>district</th>\n",
       "      <th>communityAverage</th>\n",
       "      <th>totalPrice</th>\n",
       "    </tr>\n",
       "  </thead>\n",
       "  <tbody>\n",
       "    <tr>\n",
       "      <th>0</th>\n",
       "      <td>116.475489</td>\n",
       "      <td>40.019520</td>\n",
       "      <td>2016-08-09</td>\n",
       "      <td>1464</td>\n",
       "      <td>106</td>\n",
       "      <td>131.00</td>\n",
       "      <td>2</td>\n",
       "      <td>1</td>\n",
       "      <td>1</td>\n",
       "      <td>1</td>\n",
       "      <td>...</td>\n",
       "      <td>2005</td>\n",
       "      <td>3</td>\n",
       "      <td>6</td>\n",
       "      <td>0.217</td>\n",
       "      <td>1</td>\n",
       "      <td>0</td>\n",
       "      <td>1</td>\n",
       "      <td>7</td>\n",
       "      <td>56021.0</td>\n",
       "      <td>415.0</td>\n",
       "    </tr>\n",
       "    <tr>\n",
       "      <th>1</th>\n",
       "      <td>116.453917</td>\n",
       "      <td>39.881534</td>\n",
       "      <td>2016-07-28</td>\n",
       "      <td>903</td>\n",
       "      <td>126</td>\n",
       "      <td>132.38</td>\n",
       "      <td>2</td>\n",
       "      <td>2</td>\n",
       "      <td>1</td>\n",
       "      <td>2</td>\n",
       "      <td>...</td>\n",
       "      <td>2004</td>\n",
       "      <td>4</td>\n",
       "      <td>6</td>\n",
       "      <td>0.667</td>\n",
       "      <td>1</td>\n",
       "      <td>1</td>\n",
       "      <td>0</td>\n",
       "      <td>7</td>\n",
       "      <td>71539.0</td>\n",
       "      <td>575.0</td>\n",
       "    </tr>\n",
       "    <tr>\n",
       "      <th>2</th>\n",
       "      <td>116.561978</td>\n",
       "      <td>39.877145</td>\n",
       "      <td>2016-12-11</td>\n",
       "      <td>1271</td>\n",
       "      <td>48</td>\n",
       "      <td>198.00</td>\n",
       "      <td>3</td>\n",
       "      <td>2</td>\n",
       "      <td>1</td>\n",
       "      <td>3</td>\n",
       "      <td>...</td>\n",
       "      <td>2005</td>\n",
       "      <td>3</td>\n",
       "      <td>6</td>\n",
       "      <td>0.500</td>\n",
       "      <td>1</td>\n",
       "      <td>0</td>\n",
       "      <td>0</td>\n",
       "      <td>7</td>\n",
       "      <td>48160.0</td>\n",
       "      <td>1030.0</td>\n",
       "    </tr>\n",
       "    <tr>\n",
       "      <th>3</th>\n",
       "      <td>116.438010</td>\n",
       "      <td>40.076114</td>\n",
       "      <td>2016-09-30</td>\n",
       "      <td>965</td>\n",
       "      <td>138</td>\n",
       "      <td>134.00</td>\n",
       "      <td>3</td>\n",
       "      <td>1</td>\n",
       "      <td>1</td>\n",
       "      <td>1</td>\n",
       "      <td>...</td>\n",
       "      <td>2008</td>\n",
       "      <td>1</td>\n",
       "      <td>6</td>\n",
       "      <td>0.273</td>\n",
       "      <td>1</td>\n",
       "      <td>0</td>\n",
       "      <td>0</td>\n",
       "      <td>6</td>\n",
       "      <td>51238.0</td>\n",
       "      <td>297.5</td>\n",
       "    </tr>\n",
       "    <tr>\n",
       "      <th>4</th>\n",
       "      <td>116.428392</td>\n",
       "      <td>39.886229</td>\n",
       "      <td>2016-08-28</td>\n",
       "      <td>927</td>\n",
       "      <td>286</td>\n",
       "      <td>81.00</td>\n",
       "      <td>2</td>\n",
       "      <td>1</td>\n",
       "      <td>1</td>\n",
       "      <td>1</td>\n",
       "      <td>...</td>\n",
       "      <td>1960</td>\n",
       "      <td>2</td>\n",
       "      <td>2</td>\n",
       "      <td>0.333</td>\n",
       "      <td>0</td>\n",
       "      <td>1</td>\n",
       "      <td>1</td>\n",
       "      <td>1</td>\n",
       "      <td>62588.0</td>\n",
       "      <td>392.0</td>\n",
       "    </tr>\n",
       "  </tbody>\n",
       "</table>\n",
       "<p>5 rows × 22 columns</p>\n",
       "</div>"
      ],
      "text/plain": [
       "          Lng        Lat  tradeTime   DOM  followers  square  livingRoom  \\\n",
       "0  116.475489  40.019520 2016-08-09  1464        106  131.00           2   \n",
       "1  116.453917  39.881534 2016-07-28   903        126  132.38           2   \n",
       "2  116.561978  39.877145 2016-12-11  1271         48  198.00           3   \n",
       "3  116.438010  40.076114 2016-09-30   965        138  134.00           3   \n",
       "4  116.428392  39.886229 2016-08-28   927        286   81.00           2   \n",
       "\n",
       "   drawingRoom  kitchen  bathRoom  ...  constructionTime renovationCondition  \\\n",
       "0            1        1         1  ...              2005                   3   \n",
       "1            2        1         2  ...              2004                   4   \n",
       "2            2        1         3  ...              2005                   3   \n",
       "3            1        1         1  ...              2008                   1   \n",
       "4            1        1         1  ...              1960                   2   \n",
       "\n",
       "   buildingStructure ladderRatio elevator  fiveYearsProperty subway district  \\\n",
       "0                  6       0.217        1                  0      1        7   \n",
       "1                  6       0.667        1                  1      0        7   \n",
       "2                  6       0.500        1                  0      0        7   \n",
       "3                  6       0.273        1                  0      0        6   \n",
       "4                  2       0.333        0                  1      1        1   \n",
       "\n",
       "  communityAverage totalPrice  \n",
       "0          56021.0      415.0  \n",
       "1          71539.0      575.0  \n",
       "2          48160.0     1030.0  \n",
       "3          51238.0      297.5  \n",
       "4          62588.0      392.0  \n",
       "\n",
       "[5 rows x 22 columns]"
      ]
     },
     "execution_count": 18,
     "metadata": {},
     "output_type": "execute_result"
    }
   ],
   "source": [
    "feature_df = beijing.drop(\"totalPrice\", axis = 1)\n",
    "response_df = beijing[\"totalPrice\"]\n",
    "beijing = feature_df.merge(response_df, left_index = True, right_index = True)\n",
    "beijing.head()"
   ]
  },
  {
   "cell_type": "markdown",
   "metadata": {
    "papermill": {
     "duration": 0.068842,
     "end_time": "2020-12-20T04:59:46.353440",
     "exception": false,
     "start_time": "2020-12-20T04:59:46.284598",
     "status": "completed"
    },
    "tags": []
   },
   "source": [
    "#### Correcting factor labels"
   ]
  },
  {
   "cell_type": "code",
   "execution_count": 19,
   "metadata": {
    "execution": {
     "iopub.execute_input": "2020-12-20T04:59:46.503000Z",
     "iopub.status.busy": "2020-12-20T04:59:46.501041Z",
     "iopub.status.idle": "2020-12-20T04:59:46.739177Z",
     "shell.execute_reply": "2020-12-20T04:59:46.738611Z"
    },
    "papermill": {
     "duration": 0.316967,
     "end_time": "2020-12-20T04:59:46.739315",
     "exception": false,
     "start_time": "2020-12-20T04:59:46.422348",
     "status": "completed"
    },
    "tags": []
   },
   "outputs": [
    {
     "name": "stdout",
     "output_type": "stream",
     "text": [
      "<class 'pandas.core.frame.DataFrame'>\n",
      "Int64Index: 297701 entries, 0 to 318849\n",
      "Data columns (total 22 columns):\n",
      " #   Column               Non-Null Count   Dtype         \n",
      "---  ------               --------------   -----         \n",
      " 0   Lng                  297701 non-null  float64       \n",
      " 1   Lat                  297701 non-null  float64       \n",
      " 2   tradeTime            297701 non-null  datetime64[ns]\n",
      " 3   DOM                  297701 non-null  int64         \n",
      " 4   followers            297701 non-null  int64         \n",
      " 5   square               297701 non-null  float64       \n",
      " 6   livingRoom           297701 non-null  int64         \n",
      " 7   drawingRoom          297701 non-null  int64         \n",
      " 8   kitchen              297701 non-null  int64         \n",
      " 9   bathRoom             297701 non-null  int64         \n",
      " 10  floor                297701 non-null  int64         \n",
      " 11  buildingType         297701 non-null  object        \n",
      " 12  constructionTime     297701 non-null  int64         \n",
      " 13  renovationCondition  297701 non-null  object        \n",
      " 14  buildingStructure    297701 non-null  object        \n",
      " 15  ladderRatio          297701 non-null  float64       \n",
      " 16  elevator             297701 non-null  object        \n",
      " 17  fiveYearsProperty    297701 non-null  object        \n",
      " 18  subway               297701 non-null  object        \n",
      " 19  district             297701 non-null  object        \n",
      " 20  communityAverage     297701 non-null  float64       \n",
      " 21  totalPrice           297701 non-null  float64       \n",
      "dtypes: datetime64[ns](1), float64(6), int64(8), object(7)\n",
      "memory usage: 62.2+ MB\n"
     ]
    }
   ],
   "source": [
    "beijing.info()"
   ]
  },
  {
   "cell_type": "code",
   "execution_count": 20,
   "metadata": {
    "execution": {
     "iopub.execute_input": "2020-12-20T04:59:46.887764Z",
     "iopub.status.busy": "2020-12-20T04:59:46.886943Z",
     "iopub.status.idle": "2020-12-20T04:59:47.214796Z",
     "shell.execute_reply": "2020-12-20T04:59:47.214132Z"
    },
    "papermill": {
     "duration": 0.404234,
     "end_time": "2020-12-20T04:59:47.214919",
     "exception": false,
     "start_time": "2020-12-20T04:59:46.810685",
     "status": "completed"
    },
    "tags": []
   },
   "outputs": [
    {
     "name": "stdout",
     "output_type": "stream",
     "text": [
      "Shape of dataframe:    (297701, 22)\n",
      "Lng                    [116.475489, 116.45391699999999, 116.561978, 1...\n",
      "Lat                    [40.01952, 39.881534, 39.877145, 40.0761140000...\n",
      "tradeTime              [2016-08-09T00:00:00.000000000, 2016-07-28T00:...\n",
      "DOM                    [1464, 903, 1271, 965, 927, 861, 851, 904, 873...\n",
      "followers              [106, 126, 48, 138, 286, 57, 167, 218, 134, 74...\n",
      "square                 [131.0, 132.38, 198.0, 134.0, 81.0, 53.0, 73.0...\n",
      "livingRoom                                   [2, 3, 1, 4, 5, 6, 0, 7, 8]\n",
      "drawingRoom                                           [1, 2, 0, 4, 3, 5]\n",
      "kitchen                                                     [1, 0, 2, 3]\n",
      "bathRoom                                        [1, 2, 3, 0, 4, 5, 6, 7]\n",
      "floor                  [26, 22, 4, 21, 6, 8, 10, 23, 11, 24, 19, 18, ...\n",
      "buildingType                                        [1.0, 4.0, 3.0, 2.0]\n",
      "constructionTime       [2005, 2004, 2008, 1960, 1997, 2009, 1991, 200...\n",
      "renovationCondition                                         [3, 4, 1, 2]\n",
      "buildingStructure                                     [6, 2, 4, 5, 3, 1]\n",
      "ladderRatio            [0.217, 0.667, 0.5, 0.273, 0.33299999999999996...\n",
      "elevator                                                      [1.0, 0.0]\n",
      "fiveYearsProperty                                             [0.0, 1.0]\n",
      "subway                                                        [1.0, 0.0]\n",
      "district                     [7, 6, 1, 13, 10, 2, 8, 4, 5, 3, 9, 12, 11]\n",
      "communityAverage       [56021.0, 71539.0, 48160.0, 51238.0, 62588.0, ...\n",
      "totalPrice             [415.0, 575.0, 1030.0, 297.5, 392.0, 275.6, 27...\n",
      "dtype: object\n"
     ]
    }
   ],
   "source": [
    "print(\"Shape of dataframe:    {}\".format(beijing.shape))\n",
    "print(beijing.apply(lambda x: x.unique()))"
   ]
  },
  {
   "cell_type": "code",
   "execution_count": 21,
   "metadata": {
    "execution": {
     "iopub.execute_input": "2020-12-20T04:59:47.537139Z",
     "iopub.status.busy": "2020-12-20T04:59:47.440965Z",
     "iopub.status.idle": "2020-12-20T04:59:47.595036Z",
     "shell.execute_reply": "2020-12-20T04:59:47.594335Z"
    },
    "papermill": {
     "duration": 0.310484,
     "end_time": "2020-12-20T04:59:47.595150",
     "exception": false,
     "start_time": "2020-12-20T04:59:47.284666",
     "status": "completed"
    },
    "tags": []
   },
   "outputs": [],
   "source": [
    "beijing = beijing.apply(lambda x: x.astype(\"int64\") if(x.dtype ==\"O\") else x)"
   ]
  },
  {
   "cell_type": "code",
   "execution_count": 22,
   "metadata": {
    "execution": {
     "iopub.execute_input": "2020-12-20T04:59:47.746180Z",
     "iopub.status.busy": "2020-12-20T04:59:47.745460Z",
     "iopub.status.idle": "2020-12-20T04:59:47.748744Z",
     "shell.execute_reply": "2020-12-20T04:59:47.749228Z"
    },
    "papermill": {
     "duration": 0.08545,
     "end_time": "2020-12-20T04:59:47.749378",
     "exception": false,
     "start_time": "2020-12-20T04:59:47.663928",
     "status": "completed"
    },
    "tags": []
   },
   "outputs": [],
   "source": [
    "buildingType = {\n",
    "    1:\"Tower\",\n",
    "    2:\"Bunglow\",\n",
    "    3:\"Plate/Tower\",\n",
    "    4:\"Plate\"\n",
    "}\n",
    "renovationCondition = {\n",
    "    1:\"Other\",\n",
    "    2:\"Rough\",\n",
    "    3:\"Simplicity\",\n",
    "    4:\"Hardcover\"\n",
    "}\n",
    "buildingStructure = {\n",
    "    1:\"Unavailable\",\n",
    "    2:\"Mixed\",\n",
    "    3:\"Brick/Wood\",\n",
    "    4:\"Brick/Concrete\",\n",
    "    5:\"Steel\",\n",
    "    6:\"Steel/Concrete\"\n",
    "}\n",
    "elevator = {\n",
    "    1:\"Present\",\n",
    "    0:\"Absent\"\n",
    "}\n",
    "subway = {\n",
    "    1:\"Nearby\",\n",
    "    0:\"Far\"\n",
    "}\n",
    "fiveYearProperty = {\n",
    "    1:\"Ownership<5y\",\n",
    "    0:\"Ownership>5y\"\n",
    "}\n",
    "district = {\n",
    "    1 : \"DongCheng\",\n",
    "    2 : \"FengTai\",\n",
    "    3 : \"DaXing\",\n",
    "    4 : \"FaXing\",\n",
    "    5 : \"FangShang\",\n",
    "    6 : \"ChangPing\",\n",
    "    7 : \"ChaoYang\",\n",
    "    8 : \"HaiDian\",\n",
    "    9 : \"ShiJingShan\",\n",
    "    10 : \"XiCheng\",\n",
    "    11 : \"TongZhou\",\n",
    "    12 : \"ShunYi\",\n",
    "    13 : \"MenTouGou\"\n",
    "}\n",
    "correct_label = {\n",
    "    11:buildingType,\n",
    "    13:renovationCondition,\n",
    "    14:buildingStructure,\n",
    "    16:elevator,\n",
    "    17:fiveYearProperty,\n",
    "    18:subway,\n",
    "    19:district\n",
    "}"
   ]
  },
  {
   "cell_type": "code",
   "execution_count": 23,
   "metadata": {
    "execution": {
     "iopub.execute_input": "2020-12-20T04:59:47.898153Z",
     "iopub.status.busy": "2020-12-20T04:59:47.896980Z",
     "iopub.status.idle": "2020-12-20T04:59:47.907394Z",
     "shell.execute_reply": "2020-12-20T04:59:47.908066Z"
    },
    "papermill": {
     "duration": 0.090673,
     "end_time": "2020-12-20T04:59:47.908222",
     "exception": false,
     "start_time": "2020-12-20T04:59:47.817549",
     "status": "completed"
    },
    "tags": []
   },
   "outputs": [
    {
     "name": "stdout",
     "output_type": "stream",
     "text": [
      "11 {1: 'Tower', 2: 'Bunglow', 3: 'Plate/Tower', 4: 'Plate'}\n",
      "13 {1: 'Other', 2: 'Rough', 3: 'Simplicity', 4: 'Hardcover'}\n",
      "14 {1: 'Unavailable', 2: 'Mixed', 3: 'Brick/Wood', 4: 'Brick/Concrete', 5: 'Steel', 6: 'Steel/Concrete'}\n",
      "16 {1: 'Present', 0: 'Absent'}\n",
      "17 {1: 'Ownership<5y', 0: 'Ownership>5y'}\n",
      "18 {1: 'Nearby', 0: 'Far'}\n",
      "19 {1: 'DongCheng', 2: 'FengTai', 3: 'DaXing', 4: 'FaXing', 5: 'FangShang', 6: 'ChangPing', 7: 'ChaoYang', 8: 'HaiDian', 9: 'ShiJingShan', 10: 'XiCheng', 11: 'TongZhou', 12: 'ShunYi', 13: 'MenTouGou'}\n"
     ]
    }
   ],
   "source": [
    "for key,val in correct_label.items():\n",
    "    print(key,val)"
   ]
  },
  {
   "cell_type": "code",
   "execution_count": 24,
   "metadata": {
    "execution": {
     "iopub.execute_input": "2020-12-20T04:59:48.094082Z",
     "iopub.status.busy": "2020-12-20T04:59:48.093121Z",
     "iopub.status.idle": "2020-12-20T04:59:48.403184Z",
     "shell.execute_reply": "2020-12-20T04:59:48.402433Z"
    },
    "papermill": {
     "duration": 0.401555,
     "end_time": "2020-12-20T04:59:48.403320",
     "exception": false,
     "start_time": "2020-12-20T04:59:48.001765",
     "status": "completed"
    },
    "tags": []
   },
   "outputs": [],
   "source": [
    "for key,val in correct_label.items():\n",
    "    beijing.iloc[:,key] = beijing.iloc[:,key].replace(val)"
   ]
  },
  {
   "cell_type": "code",
   "execution_count": 25,
   "metadata": {
    "execution": {
     "iopub.execute_input": "2020-12-20T04:59:48.555673Z",
     "iopub.status.busy": "2020-12-20T04:59:48.554658Z",
     "iopub.status.idle": "2020-12-20T04:59:48.788765Z",
     "shell.execute_reply": "2020-12-20T04:59:48.787844Z"
    },
    "papermill": {
     "duration": 0.314058,
     "end_time": "2020-12-20T04:59:48.788928",
     "exception": false,
     "start_time": "2020-12-20T04:59:48.474870",
     "status": "completed"
    },
    "tags": []
   },
   "outputs": [
    {
     "name": "stdout",
     "output_type": "stream",
     "text": [
      "(297701, 22)\n",
      "Lng                    [116.475489, 116.45391699999999, 116.561978, 1...\n",
      "Lat                    [40.01952, 39.881534, 39.877145, 40.0761140000...\n",
      "tradeTime              [2016-08-09T00:00:00.000000000, 2016-07-28T00:...\n",
      "DOM                    [1464, 903, 1271, 965, 927, 861, 851, 904, 873...\n",
      "followers              [106, 126, 48, 138, 286, 57, 167, 218, 134, 74...\n",
      "square                 [131.0, 132.38, 198.0, 134.0, 81.0, 53.0, 73.0...\n",
      "livingRoom                                   [2, 3, 1, 4, 5, 6, 0, 7, 8]\n",
      "drawingRoom                                           [1, 2, 0, 4, 3, 5]\n",
      "kitchen                                                     [1, 0, 2, 3]\n",
      "bathRoom                                        [1, 2, 3, 0, 4, 5, 6, 7]\n",
      "floor                  [26, 22, 4, 21, 6, 8, 10, 23, 11, 24, 19, 18, ...\n",
      "buildingType                        [Tower, Plate, Plate/Tower, Bunglow]\n",
      "constructionTime       [2005, 2004, 2008, 1960, 1997, 2009, 1991, 200...\n",
      "renovationCondition                [Simplicity, Hardcover, Other, Rough]\n",
      "buildingStructure      [Steel/Concrete, Mixed, Brick/Concrete, Steel,...\n",
      "ladderRatio            [0.217, 0.667, 0.5, 0.273, 0.33299999999999996...\n",
      "elevator                                               [Present, Absent]\n",
      "fiveYearsProperty                           [Ownership>5y, Ownership<5y]\n",
      "subway                                                     [Nearby, Far]\n",
      "district               [ChaoYang, ChangPing, DongCheng, MenTouGou, Xi...\n",
      "communityAverage       [56021.0, 71539.0, 48160.0, 51238.0, 62588.0, ...\n",
      "totalPrice             [415.0, 575.0, 1030.0, 297.5, 392.0, 275.6, 27...\n",
      "dtype: object\n"
     ]
    }
   ],
   "source": [
    "print(beijing.shape)\n",
    "print(beijing.apply(lambda x: x.unique()))"
   ]
  },
  {
   "cell_type": "code",
   "execution_count": 26,
   "metadata": {
    "execution": {
     "iopub.execute_input": "2020-12-20T04:59:48.942502Z",
     "iopub.status.busy": "2020-12-20T04:59:48.941790Z",
     "iopub.status.idle": "2020-12-20T04:59:49.033392Z",
     "shell.execute_reply": "2020-12-20T04:59:49.032776Z"
    },
    "papermill": {
     "duration": 0.170282,
     "end_time": "2020-12-20T04:59:49.033513",
     "exception": false,
     "start_time": "2020-12-20T04:59:48.863231",
     "status": "completed"
    },
    "tags": []
   },
   "outputs": [],
   "source": [
    "beijing = beijing.astype({\"livingRoom\":\"O\",\"drawingRoom\":\"O\",\"bathRoom\":\"O\",\"kitchen\":\"O\"}, errors = 'ignore')"
   ]
  },
  {
   "cell_type": "code",
   "execution_count": 27,
   "metadata": {
    "execution": {
     "iopub.execute_input": "2020-12-20T04:59:49.190729Z",
     "iopub.status.busy": "2020-12-20T04:59:49.189970Z",
     "iopub.status.idle": "2020-12-20T04:59:49.193316Z",
     "shell.execute_reply": "2020-12-20T04:59:49.193979Z"
    },
    "papermill": {
     "duration": 0.084651,
     "end_time": "2020-12-20T04:59:49.194152",
     "exception": false,
     "start_time": "2020-12-20T04:59:49.109501",
     "status": "completed"
    },
    "tags": []
   },
   "outputs": [],
   "source": [
    "beijing.reset_index(inplace=True, drop = True)"
   ]
  },
  {
   "cell_type": "markdown",
   "metadata": {
    "papermill": {
     "duration": 0.07354,
     "end_time": "2020-12-20T04:59:49.342455",
     "exception": false,
     "start_time": "2020-12-20T04:59:49.268915",
     "status": "completed"
    },
    "tags": []
   },
   "source": [
    "## Understanding the data"
   ]
  },
  {
   "cell_type": "code",
   "execution_count": 28,
   "metadata": {
    "execution": {
     "iopub.execute_input": "2020-12-20T04:59:49.554447Z",
     "iopub.status.busy": "2020-12-20T04:59:49.529163Z",
     "iopub.status.idle": "2020-12-20T04:59:49.766380Z",
     "shell.execute_reply": "2020-12-20T04:59:49.767336Z"
    },
    "papermill": {
     "duration": 0.353753,
     "end_time": "2020-12-20T04:59:49.767599",
     "exception": false,
     "start_time": "2020-12-20T04:59:49.413846",
     "status": "completed"
    },
    "tags": []
   },
   "outputs": [
    {
     "name": "stdout",
     "output_type": "stream",
     "text": [
      "livingRoom\n",
      "Unique values:\n",
      "[2 3 1 4 5 6 0 7 8]\n",
      "\n",
      "drawingRoom\n",
      "Unique values:\n",
      "[1 2 0 4 3 5]\n",
      "\n",
      "kitchen\n",
      "Unique values:\n",
      "[1 0 2 3]\n",
      "\n",
      "bathRoom\n",
      "Unique values:\n",
      "[1 2 3 0 4 5 6 7]\n",
      "\n",
      "buildingType\n",
      "Unique values:\n",
      "['Tower' 'Plate' 'Plate/Tower' 'Bunglow']\n",
      "\n",
      "renovationCondition\n",
      "Unique values:\n",
      "['Simplicity' 'Hardcover' 'Other' 'Rough']\n",
      "\n",
      "buildingStructure\n",
      "Unique values:\n",
      "['Steel/Concrete' 'Mixed' 'Brick/Concrete' 'Steel' 'Brick/Wood'\n",
      " 'Unavailable']\n",
      "\n",
      "elevator\n",
      "Unique values:\n",
      "['Present' 'Absent']\n",
      "\n",
      "fiveYearsProperty\n",
      "Unique values:\n",
      "['Ownership>5y' 'Ownership<5y']\n",
      "\n",
      "subway\n",
      "Unique values:\n",
      "['Nearby' 'Far']\n",
      "\n",
      "district\n",
      "Unique values:\n",
      "['ChaoYang' 'ChangPing' 'DongCheng' 'MenTouGou' 'XiCheng' 'FengTai'\n",
      " 'HaiDian' 'FaXing' 'FangShang' 'DaXing' 'ShiJingShan' 'ShunYi' 'TongZhou']\n",
      "\n"
     ]
    }
   ],
   "source": [
    "names = beijing.columns\n",
    "cat_idx = []\n",
    "num_idx = []\n",
    "for i in range(20):\n",
    "    column = beijing.iloc[:,i]\n",
    "    if(column.dtype==\"O\"):\n",
    "        cat_idx.append(i)\n",
    "        print(\"{}\\nUnique values:\\n{}\\n\".format(names[i],column.unique()))\n",
    "    elif(column.dtype!='<M8[ns]'):\n",
    "        num_idx.append(i)"
   ]
  },
  {
   "cell_type": "code",
   "execution_count": 29,
   "metadata": {
    "execution": {
     "iopub.execute_input": "2020-12-20T04:59:49.924390Z",
     "iopub.status.busy": "2020-12-20T04:59:49.918655Z",
     "iopub.status.idle": "2020-12-20T05:00:19.413580Z",
     "shell.execute_reply": "2020-12-20T05:00:19.414139Z"
    },
    "papermill": {
     "duration": 29.571913,
     "end_time": "2020-12-20T05:00:19.414304",
     "exception": false,
     "start_time": "2020-12-20T04:59:49.842391",
     "status": "completed"
    },
    "scrolled": false,
    "tags": []
   },
   "outputs": [
    {
     "data": {
      "text/plain": [
       "<Figure size 432x288 with 0 Axes>"
      ]
     },
     "metadata": {},
     "output_type": "display_data"
    },
    {
     "data": {
      "image/png": "[encoded data removed]",
      "text/plain": [
       "<Figure size 1440x1440 with 44 Axes>"
      ]
     },
     "metadata": {
      "needs_background": "light"
     },
     "output_type": "display_data"
    }
   ],
   "source": [
    "plt.clf()\n",
    "sns.pairplot(beijing.iloc[:,num_idx], corner=True)\n",
    "plt.show()"
   ]
  },
  {
   "cell_type": "code",
   "execution_count": 30,
   "metadata": {
    "execution": {
     "iopub.execute_input": "2020-12-20T05:00:19.584194Z",
     "iopub.status.busy": "2020-12-20T05:00:19.583407Z",
     "iopub.status.idle": "2020-12-20T05:00:19.675922Z",
     "shell.execute_reply": "2020-12-20T05:00:19.676394Z"
    },
    "papermill": {
     "duration": 0.179078,
     "end_time": "2020-12-20T05:00:19.676574",
     "exception": false,
     "start_time": "2020-12-20T05:00:19.497496",
     "status": "completed"
    },
    "tags": []
   },
   "outputs": [
    {
     "data": {
      "text/html": [
       "<div>\n",
       "<style scoped>\n",
       "    .dataframe tbody tr th:only-of-type {\n",
       "        vertical-align: middle;\n",
       "    }\n",
       "\n",
       "    .dataframe tbody tr th {\n",
       "        vertical-align: top;\n",
       "    }\n",
       "\n",
       "    .dataframe thead th {\n",
       "        text-align: right;\n",
       "    }\n",
       "</style>\n",
       "<table border=\"1\" class=\"dataframe\">\n",
       "  <thead>\n",
       "    <tr style=\"text-align: right;\">\n",
       "      <th></th>\n",
       "      <th>DOM</th>\n",
       "      <th>followers</th>\n",
       "      <th>square</th>\n",
       "      <th>floor</th>\n",
       "      <th>constructionTime</th>\n",
       "      <th>ladderRatio</th>\n",
       "    </tr>\n",
       "  </thead>\n",
       "  <tbody>\n",
       "    <tr>\n",
       "      <th>count</th>\n",
       "      <td>297701.000000</td>\n",
       "      <td>297701.000000</td>\n",
       "      <td>297701.000000</td>\n",
       "      <td>297701.000000</td>\n",
       "      <td>297701.000000</td>\n",
       "      <td>2.977010e+05</td>\n",
       "    </tr>\n",
       "    <tr>\n",
       "      <th>mean</th>\n",
       "      <td>17.985237</td>\n",
       "      <td>17.169667</td>\n",
       "      <td>82.681580</td>\n",
       "      <td>13.166200</td>\n",
       "      <td>1999.197799</td>\n",
       "      <td>6.762655e+01</td>\n",
       "    </tr>\n",
       "    <tr>\n",
       "      <th>std</th>\n",
       "      <td>37.881615</td>\n",
       "      <td>34.740228</td>\n",
       "      <td>35.730446</td>\n",
       "      <td>7.761751</td>\n",
       "      <td>8.763049</td>\n",
       "      <td>2.594371e+04</td>\n",
       "    </tr>\n",
       "    <tr>\n",
       "      <th>min</th>\n",
       "      <td>1.000000</td>\n",
       "      <td>0.000000</td>\n",
       "      <td>7.370000</td>\n",
       "      <td>1.000000</td>\n",
       "      <td>1950.000000</td>\n",
       "      <td>1.400000e-02</td>\n",
       "    </tr>\n",
       "    <tr>\n",
       "      <th>25%</th>\n",
       "      <td>6.000000</td>\n",
       "      <td>0.000000</td>\n",
       "      <td>57.930000</td>\n",
       "      <td>6.000000</td>\n",
       "      <td>1994.000000</td>\n",
       "      <td>2.500000e-01</td>\n",
       "    </tr>\n",
       "    <tr>\n",
       "      <th>50%</th>\n",
       "      <td>6.000000</td>\n",
       "      <td>5.000000</td>\n",
       "      <td>74.000000</td>\n",
       "      <td>11.000000</td>\n",
       "      <td>2001.000000</td>\n",
       "      <td>3.330000e-01</td>\n",
       "    </tr>\n",
       "    <tr>\n",
       "      <th>75%</th>\n",
       "      <td>8.000000</td>\n",
       "      <td>19.000000</td>\n",
       "      <td>98.320000</td>\n",
       "      <td>19.000000</td>\n",
       "      <td>2006.000000</td>\n",
       "      <td>5.000000e-01</td>\n",
       "    </tr>\n",
       "    <tr>\n",
       "      <th>max</th>\n",
       "      <td>1677.000000</td>\n",
       "      <td>1143.000000</td>\n",
       "      <td>640.000000</td>\n",
       "      <td>63.000000</td>\n",
       "      <td>2016.000000</td>\n",
       "      <td>1.000940e+07</td>\n",
       "    </tr>\n",
       "  </tbody>\n",
       "</table>\n",
       "</div>"
      ],
      "text/plain": [
       "                 DOM      followers         square          floor  \\\n",
       "count  297701.000000  297701.000000  297701.000000  297701.000000   \n",
       "mean       17.985237      17.169667      82.681580      13.166200   \n",
       "std        37.881615      34.740228      35.730446       7.761751   \n",
       "min         1.000000       0.000000       7.370000       1.000000   \n",
       "25%         6.000000       0.000000      57.930000       6.000000   \n",
       "50%         6.000000       5.000000      74.000000      11.000000   \n",
       "75%         8.000000      19.000000      98.320000      19.000000   \n",
       "max      1677.000000    1143.000000     640.000000      63.000000   \n",
       "\n",
       "       constructionTime   ladderRatio  \n",
       "count     297701.000000  2.977010e+05  \n",
       "mean        1999.197799  6.762655e+01  \n",
       "std            8.763049  2.594371e+04  \n",
       "min         1950.000000  1.400000e-02  \n",
       "25%         1994.000000  2.500000e-01  \n",
       "50%         2001.000000  3.330000e-01  \n",
       "75%         2006.000000  5.000000e-01  \n",
       "max         2016.000000  1.000940e+07  "
      ]
     },
     "execution_count": 30,
     "metadata": {},
     "output_type": "execute_result"
    }
   ],
   "source": [
    "beijing.iloc[:,num_idx[2:]].describe()"
   ]
  },
  {
   "cell_type": "code",
   "execution_count": 31,
   "metadata": {
    "execution": {
     "iopub.execute_input": "2020-12-20T05:00:19.849234Z",
     "iopub.status.busy": "2020-12-20T05:00:19.848467Z",
     "iopub.status.idle": "2020-12-20T05:00:21.072862Z",
     "shell.execute_reply": "2020-12-20T05:00:21.073933Z"
    },
    "papermill": {
     "duration": 1.312884,
     "end_time": "2020-12-20T05:00:21.074392",
     "exception": false,
     "start_time": "2020-12-20T05:00:19.761508",
     "status": "completed"
    },
    "tags": []
   },
   "outputs": [
    {
     "data": {
      "text/html": [
       "<div>\n",
       "<style scoped>\n",
       "    .dataframe tbody tr th:only-of-type {\n",
       "        vertical-align: middle;\n",
       "    }\n",
       "\n",
       "    .dataframe tbody tr th {\n",
       "        vertical-align: top;\n",
       "    }\n",
       "\n",
       "    .dataframe thead th {\n",
       "        text-align: right;\n",
       "    }\n",
       "</style>\n",
       "<table border=\"1\" class=\"dataframe\">\n",
       "  <thead>\n",
       "    <tr style=\"text-align: right;\">\n",
       "      <th></th>\n",
       "      <th>livingRoom</th>\n",
       "      <th>drawingRoom</th>\n",
       "      <th>kitchen</th>\n",
       "      <th>bathRoom</th>\n",
       "      <th>buildingType</th>\n",
       "      <th>renovationCondition</th>\n",
       "      <th>buildingStructure</th>\n",
       "      <th>elevator</th>\n",
       "      <th>fiveYearsProperty</th>\n",
       "      <th>subway</th>\n",
       "      <th>district</th>\n",
       "    </tr>\n",
       "  </thead>\n",
       "  <tbody>\n",
       "    <tr>\n",
       "      <th>count</th>\n",
       "      <td>297701</td>\n",
       "      <td>297701</td>\n",
       "      <td>297701</td>\n",
       "      <td>297701</td>\n",
       "      <td>297701</td>\n",
       "      <td>297701</td>\n",
       "      <td>297701</td>\n",
       "      <td>297701</td>\n",
       "      <td>297701</td>\n",
       "      <td>297701</td>\n",
       "      <td>297701</td>\n",
       "    </tr>\n",
       "    <tr>\n",
       "      <th>unique</th>\n",
       "      <td>9</td>\n",
       "      <td>6</td>\n",
       "      <td>4</td>\n",
       "      <td>8</td>\n",
       "      <td>4</td>\n",
       "      <td>4</td>\n",
       "      <td>6</td>\n",
       "      <td>2</td>\n",
       "      <td>2</td>\n",
       "      <td>2</td>\n",
       "      <td>13</td>\n",
       "    </tr>\n",
       "    <tr>\n",
       "      <th>top</th>\n",
       "      <td>2</td>\n",
       "      <td>1</td>\n",
       "      <td>1</td>\n",
       "      <td>1</td>\n",
       "      <td>Plate</td>\n",
       "      <td>Hardcover</td>\n",
       "      <td>Steel/Concrete</td>\n",
       "      <td>Present</td>\n",
       "      <td>Ownership&lt;5y</td>\n",
       "      <td>Nearby</td>\n",
       "      <td>ChaoYang</td>\n",
       "    </tr>\n",
       "    <tr>\n",
       "      <th>freq</th>\n",
       "      <td>151560</td>\n",
       "      <td>213122</td>\n",
       "      <td>294602</td>\n",
       "      <td>245332</td>\n",
       "      <td>164772</td>\n",
       "      <td>109609</td>\n",
       "      <td>173346</td>\n",
       "      <td>169902</td>\n",
       "      <td>193956</td>\n",
       "      <td>179223</td>\n",
       "      <td>101139</td>\n",
       "    </tr>\n",
       "  </tbody>\n",
       "</table>\n",
       "</div>"
      ],
      "text/plain": [
       "        livingRoom  drawingRoom  kitchen  bathRoom buildingType  \\\n",
       "count       297701       297701   297701    297701       297701   \n",
       "unique           9            6        4         8            4   \n",
       "top              2            1        1         1        Plate   \n",
       "freq        151560       213122   294602    245332       164772   \n",
       "\n",
       "       renovationCondition buildingStructure elevator fiveYearsProperty  \\\n",
       "count               297701            297701   297701            297701   \n",
       "unique                   4                 6        2                 2   \n",
       "top              Hardcover    Steel/Concrete  Present      Ownership<5y   \n",
       "freq                109609            173346   169902            193956   \n",
       "\n",
       "        subway  district  \n",
       "count   297701    297701  \n",
       "unique       2        13  \n",
       "top     Nearby  ChaoYang  \n",
       "freq    179223    101139  "
      ]
     },
     "execution_count": 31,
     "metadata": {},
     "output_type": "execute_result"
    }
   ],
   "source": [
    "beijing.iloc[:,cat_idx].describe()"
   ]
  },
  {
   "cell_type": "code",
   "execution_count": 32,
   "metadata": {
    "execution": {
     "iopub.execute_input": "2020-12-20T05:00:21.320729Z",
     "iopub.status.busy": "2020-12-20T05:00:21.319688Z",
     "iopub.status.idle": "2020-12-20T05:00:21.382723Z",
     "shell.execute_reply": "2020-12-20T05:00:21.382148Z"
    },
    "papermill": {
     "duration": 0.206718,
     "end_time": "2020-12-20T05:00:21.382839",
     "exception": false,
     "start_time": "2020-12-20T05:00:21.176121",
     "status": "completed"
    },
    "tags": []
   },
   "outputs": [
    {
     "data": {
      "text/html": [
       "<div>\n",
       "<style scoped>\n",
       "    .dataframe tbody tr th:only-of-type {\n",
       "        vertical-align: middle;\n",
       "    }\n",
       "\n",
       "    .dataframe tbody tr th {\n",
       "        vertical-align: top;\n",
       "    }\n",
       "\n",
       "    .dataframe thead th {\n",
       "        text-align: right;\n",
       "    }\n",
       "</style>\n",
       "<table border=\"1\" class=\"dataframe\">\n",
       "  <thead>\n",
       "    <tr style=\"text-align: right;\">\n",
       "      <th></th>\n",
       "      <th>mean</th>\n",
       "      <th>amin</th>\n",
       "      <th>amax</th>\n",
       "      <th>median</th>\n",
       "    </tr>\n",
       "    <tr>\n",
       "      <th>district</th>\n",
       "      <th></th>\n",
       "      <th></th>\n",
       "      <th></th>\n",
       "      <th></th>\n",
       "    </tr>\n",
       "  </thead>\n",
       "  <tbody>\n",
       "    <tr>\n",
       "      <th>ChangPing</th>\n",
       "      <td>280.466645</td>\n",
       "      <td>0.1</td>\n",
       "      <td>1900.0</td>\n",
       "      <td>260.0</td>\n",
       "    </tr>\n",
       "    <tr>\n",
       "      <th>ChaoYang</th>\n",
       "      <td>366.733546</td>\n",
       "      <td>0.1</td>\n",
       "      <td>4900.0</td>\n",
       "      <td>305.0</td>\n",
       "    </tr>\n",
       "    <tr>\n",
       "      <th>DaXing</th>\n",
       "      <td>286.382851</td>\n",
       "      <td>0.1</td>\n",
       "      <td>1230.0</td>\n",
       "      <td>239.0</td>\n",
       "    </tr>\n",
       "    <tr>\n",
       "      <th>DongCheng</th>\n",
       "      <td>441.111142</td>\n",
       "      <td>0.1</td>\n",
       "      <td>3190.0</td>\n",
       "      <td>385.0</td>\n",
       "    </tr>\n",
       "    <tr>\n",
       "      <th>FaXing</th>\n",
       "      <td>255.671612</td>\n",
       "      <td>0.1</td>\n",
       "      <td>1350.0</td>\n",
       "      <td>225.0</td>\n",
       "    </tr>\n",
       "    <tr>\n",
       "      <th>FangShang</th>\n",
       "      <td>254.710031</td>\n",
       "      <td>18.5</td>\n",
       "      <td>880.0</td>\n",
       "      <td>239.0</td>\n",
       "    </tr>\n",
       "    <tr>\n",
       "      <th>FengTai</th>\n",
       "      <td>300.158926</td>\n",
       "      <td>0.1</td>\n",
       "      <td>1550.0</td>\n",
       "      <td>261.0</td>\n",
       "    </tr>\n",
       "    <tr>\n",
       "      <th>HaiDian</th>\n",
       "      <td>431.151246</td>\n",
       "      <td>0.1</td>\n",
       "      <td>4475.0</td>\n",
       "      <td>368.0</td>\n",
       "    </tr>\n",
       "    <tr>\n",
       "      <th>MenTouGou</th>\n",
       "      <td>221.205904</td>\n",
       "      <td>0.1</td>\n",
       "      <td>2169.0</td>\n",
       "      <td>188.0</td>\n",
       "    </tr>\n",
       "    <tr>\n",
       "      <th>ShiJingShan</th>\n",
       "      <td>268.463298</td>\n",
       "      <td>0.1</td>\n",
       "      <td>2000.0</td>\n",
       "      <td>223.0</td>\n",
       "    </tr>\n",
       "    <tr>\n",
       "      <th>ShunYi</th>\n",
       "      <td>223.553618</td>\n",
       "      <td>46.0</td>\n",
       "      <td>810.0</td>\n",
       "      <td>197.0</td>\n",
       "    </tr>\n",
       "    <tr>\n",
       "      <th>TongZhou</th>\n",
       "      <td>235.155813</td>\n",
       "      <td>0.1</td>\n",
       "      <td>1445.0</td>\n",
       "      <td>200.0</td>\n",
       "    </tr>\n",
       "    <tr>\n",
       "      <th>XiCheng</th>\n",
       "      <td>451.430892</td>\n",
       "      <td>0.1</td>\n",
       "      <td>4370.0</td>\n",
       "      <td>395.0</td>\n",
       "    </tr>\n",
       "  </tbody>\n",
       "</table>\n",
       "</div>"
      ],
      "text/plain": [
       "                   mean  amin    amax  median\n",
       "district                                     \n",
       "ChangPing    280.466645   0.1  1900.0   260.0\n",
       "ChaoYang     366.733546   0.1  4900.0   305.0\n",
       "DaXing       286.382851   0.1  1230.0   239.0\n",
       "DongCheng    441.111142   0.1  3190.0   385.0\n",
       "FaXing       255.671612   0.1  1350.0   225.0\n",
       "FangShang    254.710031  18.5   880.0   239.0\n",
       "FengTai      300.158926   0.1  1550.0   261.0\n",
       "HaiDian      431.151246   0.1  4475.0   368.0\n",
       "MenTouGou    221.205904   0.1  2169.0   188.0\n",
       "ShiJingShan  268.463298   0.1  2000.0   223.0\n",
       "ShunYi       223.553618  46.0   810.0   197.0\n",
       "TongZhou     235.155813   0.1  1445.0   200.0\n",
       "XiCheng      451.430892   0.1  4370.0   395.0"
      ]
     },
     "execution_count": 32,
     "metadata": {},
     "output_type": "execute_result"
    }
   ],
   "source": [
    "temp = beijing[\"totalPrice\"].groupby(beijing[\"district\"]).agg([np.mean,np.min,np.max,np.median])\n",
    "temp"
   ]
  },
  {
   "cell_type": "markdown",
   "metadata": {
    "papermill": {
     "duration": 0.088027,
     "end_time": "2020-12-20T05:00:21.554371",
     "exception": false,
     "start_time": "2020-12-20T05:00:21.466344",
     "status": "completed"
    },
    "tags": []
   },
   "source": [
    "## Saving the cleaned dataset"
   ]
  },
  {
   "cell_type": "code",
   "execution_count": 33,
   "metadata": {
    "execution": {
     "iopub.execute_input": "2020-12-20T05:00:21.741407Z",
     "iopub.status.busy": "2020-12-20T05:00:21.740691Z",
     "iopub.status.idle": "2020-12-20T05:00:21.801277Z",
     "shell.execute_reply": "2020-12-20T05:00:21.800650Z"
    },
    "papermill": {
     "duration": 0.160728,
     "end_time": "2020-12-20T05:00:21.801397",
     "exception": false,
     "start_time": "2020-12-20T05:00:21.640669",
     "status": "completed"
    },
    "tags": []
   },
   "outputs": [],
   "source": [
    "beijing.drop(\"Lat\", axis = 1, inplace=True)\n",
    "beijing.drop(\"Lng\", axis = 1, inplace=True)"
   ]
  },
  {
   "cell_type": "code",
   "execution_count": 34,
   "metadata": {
    "execution": {
     "iopub.execute_input": "2020-12-20T05:00:21.978878Z",
     "iopub.status.busy": "2020-12-20T05:00:21.978139Z",
     "iopub.status.idle": "2020-12-20T05:00:22.353558Z",
     "shell.execute_reply": "2020-12-20T05:00:22.354460Z"
    },
    "papermill": {
     "duration": 0.467985,
     "end_time": "2020-12-20T05:00:22.354703",
     "exception": false,
     "start_time": "2020-12-20T05:00:21.886718",
     "status": "completed"
    },
    "tags": []
   },
   "outputs": [
    {
     "name": "stdout",
     "output_type": "stream",
     "text": [
      "<class 'pandas.core.frame.DataFrame'>\n",
      "RangeIndex: 297701 entries, 0 to 297700\n",
      "Data columns (total 20 columns):\n",
      " #   Column               Non-Null Count   Dtype         \n",
      "---  ------               --------------   -----         \n",
      " 0   tradeTime            297701 non-null  datetime64[ns]\n",
      " 1   DOM                  297701 non-null  int64         \n",
      " 2   followers            297701 non-null  int64         \n",
      " 3   square               297701 non-null  float64       \n",
      " 4   livingRoom           297701 non-null  object        \n",
      " 5   drawingRoom          297701 non-null  object        \n",
      " 6   kitchen              297701 non-null  object        \n",
      " 7   bathRoom             297701 non-null  object        \n",
      " 8   floor                297701 non-null  int64         \n",
      " 9   buildingType         297701 non-null  object        \n",
      " 10  constructionTime     297701 non-null  int64         \n",
      " 11  renovationCondition  297701 non-null  object        \n",
      " 12  buildingStructure    297701 non-null  object        \n",
      " 13  ladderRatio          297701 non-null  float64       \n",
      " 14  elevator             297701 non-null  object        \n",
      " 15  fiveYearsProperty    297701 non-null  object        \n",
      " 16  subway               297701 non-null  object        \n",
      " 17  district             297701 non-null  object        \n",
      " 18  communityAverage     297701 non-null  float64       \n",
      " 19  totalPrice           297701 non-null  float64       \n",
      "dtypes: datetime64[ns](1), float64(4), int64(4), object(11)\n",
      "memory usage: 45.4+ MB\n"
     ]
    }
   ],
   "source": [
    "beijing.info()"
   ]
  },
  {
   "cell_type": "code",
   "execution_count": 35,
   "metadata": {
    "execution": {
     "iopub.execute_input": "2020-12-20T05:00:22.535731Z",
     "iopub.status.busy": "2020-12-20T05:00:22.534687Z",
     "iopub.status.idle": "2020-12-20T05:00:22.541364Z",
     "shell.execute_reply": "2020-12-20T05:00:22.542238Z"
    },
    "papermill": {
     "duration": 0.096479,
     "end_time": "2020-12-20T05:00:22.542405",
     "exception": false,
     "start_time": "2020-12-20T05:00:22.445926",
     "status": "completed"
    },
    "tags": []
   },
   "outputs": [],
   "source": [
    "dataClasses = beijing.dtypes.to_dict()"
   ]
  },
  {
   "cell_type": "code",
   "execution_count": 36,
   "metadata": {
    "execution": {
     "iopub.execute_input": "2020-12-20T05:00:22.724034Z",
     "iopub.status.busy": "2020-12-20T05:00:22.723035Z",
     "iopub.status.idle": "2020-12-20T05:00:30.109853Z",
     "shell.execute_reply": "2020-12-20T05:00:30.108675Z"
    },
    "papermill": {
     "duration": 7.477275,
     "end_time": "2020-12-20T05:00:30.109976",
     "exception": false,
     "start_time": "2020-12-20T05:00:22.632701",
     "status": "completed"
    },
    "tags": []
   },
   "outputs": [],
   "source": [
    "beijing.to_csv('cleaned_beijing.csv', encoding='utf-8')"
   ]
  },
  {
   "cell_type": "markdown",
   "metadata": {
    "papermill": {
     "duration": 0.086842,
     "end_time": "2020-12-20T05:00:30.283377",
     "exception": false,
     "start_time": "2020-12-20T05:00:30.196535",
     "status": "completed"
    },
    "tags": []
   },
   "source": [
    "## Preprocessing"
   ]
  },
  {
   "cell_type": "code",
   "execution_count": 37,
   "metadata": {
    "execution": {
     "iopub.execute_input": "2020-12-20T05:00:30.459668Z",
     "iopub.status.busy": "2020-12-20T05:00:30.458650Z",
     "iopub.status.idle": "2020-12-20T05:00:31.410600Z",
     "shell.execute_reply": "2020-12-20T05:00:31.409825Z"
    },
    "papermill": {
     "duration": 1.0411,
     "end_time": "2020-12-20T05:00:31.410741",
     "exception": false,
     "start_time": "2020-12-20T05:00:30.369641",
     "status": "completed"
    },
    "tags": []
   },
   "outputs": [
    {
     "data": {
      "text/html": [
       "<div>\n",
       "<style scoped>\n",
       "    .dataframe tbody tr th:only-of-type {\n",
       "        vertical-align: middle;\n",
       "    }\n",
       "\n",
       "    .dataframe tbody tr th {\n",
       "        vertical-align: top;\n",
       "    }\n",
       "\n",
       "    .dataframe thead th {\n",
       "        text-align: right;\n",
       "    }\n",
       "</style>\n",
       "<table border=\"1\" class=\"dataframe\">\n",
       "  <thead>\n",
       "    <tr style=\"text-align: right;\">\n",
       "      <th></th>\n",
       "      <th>tradeTime</th>\n",
       "      <th>DOM</th>\n",
       "      <th>followers</th>\n",
       "      <th>square</th>\n",
       "      <th>livingRoom</th>\n",
       "      <th>drawingRoom</th>\n",
       "      <th>kitchen</th>\n",
       "      <th>bathRoom</th>\n",
       "      <th>floor</th>\n",
       "      <th>buildingType</th>\n",
       "      <th>constructionTime</th>\n",
       "      <th>renovationCondition</th>\n",
       "      <th>buildingStructure</th>\n",
       "      <th>ladderRatio</th>\n",
       "      <th>elevator</th>\n",
       "      <th>fiveYearsProperty</th>\n",
       "      <th>subway</th>\n",
       "      <th>district</th>\n",
       "      <th>communityAverage</th>\n",
       "      <th>totalPrice</th>\n",
       "    </tr>\n",
       "  </thead>\n",
       "  <tbody>\n",
       "    <tr>\n",
       "      <th>0</th>\n",
       "      <td>2016-08-09</td>\n",
       "      <td>1464</td>\n",
       "      <td>106</td>\n",
       "      <td>131.00</td>\n",
       "      <td>2</td>\n",
       "      <td>1</td>\n",
       "      <td>1</td>\n",
       "      <td>1</td>\n",
       "      <td>26</td>\n",
       "      <td>Tower</td>\n",
       "      <td>2005</td>\n",
       "      <td>Simplicity</td>\n",
       "      <td>Steel/Concrete</td>\n",
       "      <td>0.217</td>\n",
       "      <td>Present</td>\n",
       "      <td>Ownership&gt;5y</td>\n",
       "      <td>Nearby</td>\n",
       "      <td>ChaoYang</td>\n",
       "      <td>56021.0</td>\n",
       "      <td>415.0</td>\n",
       "    </tr>\n",
       "    <tr>\n",
       "      <th>1</th>\n",
       "      <td>2016-07-28</td>\n",
       "      <td>903</td>\n",
       "      <td>126</td>\n",
       "      <td>132.38</td>\n",
       "      <td>2</td>\n",
       "      <td>2</td>\n",
       "      <td>1</td>\n",
       "      <td>2</td>\n",
       "      <td>22</td>\n",
       "      <td>Tower</td>\n",
       "      <td>2004</td>\n",
       "      <td>Hardcover</td>\n",
       "      <td>Steel/Concrete</td>\n",
       "      <td>0.667</td>\n",
       "      <td>Present</td>\n",
       "      <td>Ownership&lt;5y</td>\n",
       "      <td>Far</td>\n",
       "      <td>ChaoYang</td>\n",
       "      <td>71539.0</td>\n",
       "      <td>575.0</td>\n",
       "    </tr>\n",
       "    <tr>\n",
       "      <th>2</th>\n",
       "      <td>2016-12-11</td>\n",
       "      <td>1271</td>\n",
       "      <td>48</td>\n",
       "      <td>198.00</td>\n",
       "      <td>3</td>\n",
       "      <td>2</td>\n",
       "      <td>1</td>\n",
       "      <td>3</td>\n",
       "      <td>4</td>\n",
       "      <td>Plate</td>\n",
       "      <td>2005</td>\n",
       "      <td>Simplicity</td>\n",
       "      <td>Steel/Concrete</td>\n",
       "      <td>0.500</td>\n",
       "      <td>Present</td>\n",
       "      <td>Ownership&gt;5y</td>\n",
       "      <td>Far</td>\n",
       "      <td>ChaoYang</td>\n",
       "      <td>48160.0</td>\n",
       "      <td>1030.0</td>\n",
       "    </tr>\n",
       "    <tr>\n",
       "      <th>3</th>\n",
       "      <td>2016-09-30</td>\n",
       "      <td>965</td>\n",
       "      <td>138</td>\n",
       "      <td>134.00</td>\n",
       "      <td>3</td>\n",
       "      <td>1</td>\n",
       "      <td>1</td>\n",
       "      <td>1</td>\n",
       "      <td>21</td>\n",
       "      <td>Tower</td>\n",
       "      <td>2008</td>\n",
       "      <td>Other</td>\n",
       "      <td>Steel/Concrete</td>\n",
       "      <td>0.273</td>\n",
       "      <td>Present</td>\n",
       "      <td>Ownership&gt;5y</td>\n",
       "      <td>Far</td>\n",
       "      <td>ChangPing</td>\n",
       "      <td>51238.0</td>\n",
       "      <td>297.5</td>\n",
       "    </tr>\n",
       "    <tr>\n",
       "      <th>4</th>\n",
       "      <td>2016-08-28</td>\n",
       "      <td>927</td>\n",
       "      <td>286</td>\n",
       "      <td>81.00</td>\n",
       "      <td>2</td>\n",
       "      <td>1</td>\n",
       "      <td>1</td>\n",
       "      <td>1</td>\n",
       "      <td>6</td>\n",
       "      <td>Plate</td>\n",
       "      <td>1960</td>\n",
       "      <td>Rough</td>\n",
       "      <td>Mixed</td>\n",
       "      <td>0.333</td>\n",
       "      <td>Absent</td>\n",
       "      <td>Ownership&lt;5y</td>\n",
       "      <td>Nearby</td>\n",
       "      <td>DongCheng</td>\n",
       "      <td>62588.0</td>\n",
       "      <td>392.0</td>\n",
       "    </tr>\n",
       "  </tbody>\n",
       "</table>\n",
       "</div>"
      ],
      "text/plain": [
       "   tradeTime   DOM  followers  square  livingRoom  drawingRoom  kitchen  \\\n",
       "0 2016-08-09  1464        106  131.00           2            1        1   \n",
       "1 2016-07-28   903        126  132.38           2            2        1   \n",
       "2 2016-12-11  1271         48  198.00           3            2        1   \n",
       "3 2016-09-30   965        138  134.00           3            1        1   \n",
       "4 2016-08-28   927        286   81.00           2            1        1   \n",
       "\n",
       "   bathRoom  floor buildingType  constructionTime renovationCondition  \\\n",
       "0         1     26        Tower              2005          Simplicity   \n",
       "1         2     22        Tower              2004           Hardcover   \n",
       "2         3      4        Plate              2005          Simplicity   \n",
       "3         1     21        Tower              2008               Other   \n",
       "4         1      6        Plate              1960               Rough   \n",
       "\n",
       "  buildingStructure  ladderRatio elevator fiveYearsProperty  subway  \\\n",
       "0    Steel/Concrete        0.217  Present      Ownership>5y  Nearby   \n",
       "1    Steel/Concrete        0.667  Present      Ownership<5y     Far   \n",
       "2    Steel/Concrete        0.500  Present      Ownership>5y     Far   \n",
       "3    Steel/Concrete        0.273  Present      Ownership>5y     Far   \n",
       "4             Mixed        0.333   Absent      Ownership<5y  Nearby   \n",
       "\n",
       "    district  communityAverage  totalPrice  \n",
       "0   ChaoYang           56021.0       415.0  \n",
       "1   ChaoYang           71539.0       575.0  \n",
       "2   ChaoYang           48160.0      1030.0  \n",
       "3  ChangPing           51238.0       297.5  \n",
       "4  DongCheng           62588.0       392.0  "
      ]
     },
     "execution_count": 37,
     "metadata": {},
     "output_type": "execute_result"
    }
   ],
   "source": [
    "beijing = pd.read_csv(\"./cleaned_beijing.csv\", parse_dates=[\"tradeTime\"], index_col = 0, encoding='utf-8')\n",
    "beijing.head()"
   ]
  },
  {
   "cell_type": "code",
   "execution_count": 38,
   "metadata": {
    "execution": {
     "iopub.execute_input": "2020-12-20T05:00:31.591505Z",
     "iopub.status.busy": "2020-12-20T05:00:31.590801Z",
     "iopub.status.idle": "2020-12-20T05:00:31.658704Z",
     "shell.execute_reply": "2020-12-20T05:00:31.657994Z"
    },
    "papermill": {
     "duration": 0.159983,
     "end_time": "2020-12-20T05:00:31.658823",
     "exception": false,
     "start_time": "2020-12-20T05:00:31.498840",
     "status": "completed"
    },
    "tags": []
   },
   "outputs": [],
   "source": [
    "beijing = beijing.astype(dataClasses, errors = 'ignore')"
   ]
  },
  {
   "cell_type": "code",
   "execution_count": 39,
   "metadata": {
    "execution": {
     "iopub.execute_input": "2020-12-20T05:00:31.845122Z",
     "iopub.status.busy": "2020-12-20T05:00:31.844342Z",
     "iopub.status.idle": "2020-12-20T05:00:32.181650Z",
     "shell.execute_reply": "2020-12-20T05:00:32.181033Z"
    },
    "papermill": {
     "duration": 0.436639,
     "end_time": "2020-12-20T05:00:32.181769",
     "exception": false,
     "start_time": "2020-12-20T05:00:31.745130",
     "status": "completed"
    },
    "tags": []
   },
   "outputs": [],
   "source": [
    "cat_mask = beijing.dtypes == object\n",
    "cat_cols = beijing.columns[cat_mask].tolist()\n",
    "l_enc = OneHotEncoder(handle_unknown='ignore', sparse = False)\n",
    "l_enc.fit(beijing[cat_cols])\n",
    "def encode_df(df, enc, cat_cols):\n",
    "    encoded_array = enc.transform(df[cat_cols])\n",
    "    encoded_df = pd.DataFrame(encoded_array, columns = enc.get_feature_names(input_features = cat_cols))\n",
    "    feature_df = df.drop(\"totalPrice\", axis = 1)\n",
    "    response_df = df[\"totalPrice\"]\n",
    "    feature_df = feature_df.merge(encoded_df, left_index = True, right_index = True).drop(columns = cat_cols, axis=1)\n",
    "    df = feature_df.merge(response_df, left_index = True, right_index = True)\n",
    "    df['tradeTime'] = df['tradeTime'].astype('datetime64[ns]')\n",
    "    df['tradeTime'] = df['tradeTime'].map(dt.datetime.toordinal)\n",
    "    return(df)"
   ]
  },
  {
   "cell_type": "code",
   "execution_count": 40,
   "metadata": {
    "execution": {
     "iopub.execute_input": "2020-12-20T05:00:32.362576Z",
     "iopub.status.busy": "2020-12-20T05:00:32.361897Z",
     "iopub.status.idle": "2020-12-20T05:00:36.735776Z",
     "shell.execute_reply": "2020-12-20T05:00:36.735087Z"
    },
    "papermill": {
     "duration": 4.467371,
     "end_time": "2020-12-20T05:00:36.735908",
     "exception": false,
     "start_time": "2020-12-20T05:00:32.268537",
     "status": "completed"
    },
    "tags": []
   },
   "outputs": [],
   "source": [
    "l_beijing = encode_df(beijing, l_enc, cat_cols)"
   ]
  },
  {
   "cell_type": "code",
   "execution_count": 41,
   "metadata": {
    "execution": {
     "iopub.execute_input": "2020-12-20T05:00:36.916058Z",
     "iopub.status.busy": "2020-12-20T05:00:36.914985Z",
     "iopub.status.idle": "2020-12-20T05:00:36.919741Z",
     "shell.execute_reply": "2020-12-20T05:00:36.919220Z"
    },
    "papermill": {
     "duration": 0.096094,
     "end_time": "2020-12-20T05:00:36.919854",
     "exception": false,
     "start_time": "2020-12-20T05:00:36.823760",
     "status": "completed"
    },
    "tags": []
   },
   "outputs": [
    {
     "data": {
      "text/plain": [
       "(297701, 69)"
      ]
     },
     "execution_count": 41,
     "metadata": {},
     "output_type": "execute_result"
    }
   ],
   "source": [
    "l_beijing.shape"
   ]
  },
  {
   "cell_type": "markdown",
   "metadata": {
    "papermill": {
     "duration": 0.088848,
     "end_time": "2020-12-20T05:00:37.096721",
     "exception": false,
     "start_time": "2020-12-20T05:00:37.007873",
     "status": "completed"
    },
    "tags": []
   },
   "source": [
    "## Modelling"
   ]
  },
  {
   "cell_type": "code",
   "execution_count": 42,
   "metadata": {
    "execution": {
     "iopub.execute_input": "2020-12-20T05:00:37.283818Z",
     "iopub.status.busy": "2020-12-20T05:00:37.283005Z",
     "iopub.status.idle": "2020-12-20T05:00:37.286439Z",
     "shell.execute_reply": "2020-12-20T05:00:37.285571Z"
    },
    "papermill": {
     "duration": 0.099814,
     "end_time": "2020-12-20T05:00:37.286593",
     "exception": false,
     "start_time": "2020-12-20T05:00:37.186779",
     "status": "completed"
    },
    "scrolled": true,
    "tags": []
   },
   "outputs": [],
   "source": [
    "def split_df(df):\n",
    "    X = df.drop(\"totalPrice\", axis = 1).values\n",
    "    y = df[\"totalPrice\"].values.reshape(-1,1)\n",
    "    return(X,y)"
   ]
  },
  {
   "cell_type": "code",
   "execution_count": 43,
   "metadata": {
    "execution": {
     "iopub.execute_input": "2020-12-20T05:00:37.467600Z",
     "iopub.status.busy": "2020-12-20T05:00:37.466863Z",
     "iopub.status.idle": "2020-12-20T05:00:37.695642Z",
     "shell.execute_reply": "2020-12-20T05:00:37.696242Z"
    },
    "papermill": {
     "duration": 0.322151,
     "end_time": "2020-12-20T05:00:37.696397",
     "exception": false,
     "start_time": "2020-12-20T05:00:37.374246",
     "status": "completed"
    },
    "tags": []
   },
   "outputs": [
    {
     "name": "stdout",
     "output_type": "stream",
     "text": [
      "(297701, 68) (297701, 1)\n"
     ]
    }
   ],
   "source": [
    "X,y = split_df(l_beijing)\n",
    "print(X.shape,y.shape)"
   ]
  },
  {
   "cell_type": "code",
   "execution_count": 44,
   "metadata": {
    "execution": {
     "iopub.execute_input": "2020-12-20T05:00:37.880319Z",
     "iopub.status.busy": "2020-12-20T05:00:37.879644Z",
     "iopub.status.idle": "2020-12-20T05:00:38.184469Z",
     "shell.execute_reply": "2020-12-20T05:00:38.183912Z"
    },
    "papermill": {
     "duration": 0.398382,
     "end_time": "2020-12-20T05:00:38.184665",
     "exception": false,
     "start_time": "2020-12-20T05:00:37.786283",
     "status": "completed"
    },
    "tags": []
   },
   "outputs": [],
   "source": [
    "X_train, X_test, y_train, y_test = train_test_split(X, y, test_size=0.3, random_state=193)"
   ]
  },
  {
   "cell_type": "markdown",
   "metadata": {
    "papermill": {
     "duration": 0.08738,
     "end_time": "2020-12-20T05:00:38.363838",
     "exception": false,
     "start_time": "2020-12-20T05:00:38.276458",
     "status": "completed"
    },
    "tags": []
   },
   "source": [
    "### Feature selection using lasso "
   ]
  },
  {
   "cell_type": "code",
   "execution_count": 45,
   "metadata": {
    "execution": {
     "iopub.execute_input": "2020-12-20T05:00:38.550959Z",
     "iopub.status.busy": "2020-12-20T05:00:38.549978Z",
     "iopub.status.idle": "2020-12-20T05:00:38.554372Z",
     "shell.execute_reply": "2020-12-20T05:00:38.553740Z"
    },
    "papermill": {
     "duration": 0.099753,
     "end_time": "2020-12-20T05:00:38.554529",
     "exception": false,
     "start_time": "2020-12-20T05:00:38.454776",
     "status": "completed"
    },
    "tags": []
   },
   "outputs": [],
   "source": [
    "lasso = Lasso(alpha = 0.005, normalize = True)"
   ]
  },
  {
   "cell_type": "code",
   "execution_count": 46,
   "metadata": {
    "execution": {
     "iopub.execute_input": "2020-12-20T05:00:38.736988Z",
     "iopub.status.busy": "2020-12-20T05:00:38.736053Z",
     "iopub.status.idle": "2020-12-20T05:00:39.304189Z",
     "shell.execute_reply": "2020-12-20T05:00:39.305141Z"
    },
    "papermill": {
     "duration": 0.661673,
     "end_time": "2020-12-20T05:00:39.305357",
     "exception": false,
     "start_time": "2020-12-20T05:00:38.643684",
     "status": "completed"
    },
    "tags": []
   },
   "outputs": [
    {
     "data": {
      "text/plain": [
       "Lasso(alpha=0.005, normalize=True)"
      ]
     },
     "execution_count": 46,
     "metadata": {},
     "output_type": "execute_result"
    }
   ],
   "source": [
    "lasso.fit(X_train, y_train)"
   ]
  },
  {
   "cell_type": "code",
   "execution_count": 47,
   "metadata": {
    "execution": {
     "iopub.execute_input": "2020-12-20T05:00:39.504281Z",
     "iopub.status.busy": "2020-12-20T05:00:39.503129Z",
     "iopub.status.idle": "2020-12-20T05:00:39.520602Z",
     "shell.execute_reply": "2020-12-20T05:00:39.521215Z"
    },
    "papermill": {
     "duration": 0.115913,
     "end_time": "2020-12-20T05:00:39.521377",
     "exception": false,
     "start_time": "2020-12-20T05:00:39.405464",
     "status": "completed"
    },
    "tags": []
   },
   "outputs": [],
   "source": [
    "lasso_pred = lasso.predict(X_test)"
   ]
  },
  {
   "cell_type": "code",
   "execution_count": 48,
   "metadata": {
    "execution": {
     "iopub.execute_input": "2020-12-20T05:00:39.711607Z",
     "iopub.status.busy": "2020-12-20T05:00:39.710554Z",
     "iopub.status.idle": "2020-12-20T05:00:39.731423Z",
     "shell.execute_reply": "2020-12-20T05:00:39.730769Z"
    },
    "papermill": {
     "duration": 0.114713,
     "end_time": "2020-12-20T05:00:39.731578",
     "exception": false,
     "start_time": "2020-12-20T05:00:39.616865",
     "status": "completed"
    },
    "tags": []
   },
   "outputs": [
    {
     "data": {
      "text/plain": [
       "0.7898492325416235"
      ]
     },
     "execution_count": 48,
     "metadata": {},
     "output_type": "execute_result"
    }
   ],
   "source": [
    "lasso.score(X_test, y_test)"
   ]
  },
  {
   "cell_type": "code",
   "execution_count": 49,
   "metadata": {
    "execution": {
     "iopub.execute_input": "2020-12-20T05:00:39.926749Z",
     "iopub.status.busy": "2020-12-20T05:00:39.925562Z",
     "iopub.status.idle": "2020-12-20T05:00:40.450418Z",
     "shell.execute_reply": "2020-12-20T05:00:40.449742Z"
    },
    "papermill": {
     "duration": 0.619909,
     "end_time": "2020-12-20T05:00:40.450551",
     "exception": false,
     "start_time": "2020-12-20T05:00:39.830642",
     "status": "completed"
    },
    "tags": []
   },
   "outputs": [],
   "source": [
    "lasso_coef = lasso.fit(X, y).coef_"
   ]
  },
  {
   "cell_type": "code",
   "execution_count": 50,
   "metadata": {
    "execution": {
     "iopub.execute_input": "2020-12-20T05:00:40.643955Z",
     "iopub.status.busy": "2020-12-20T05:00:40.642803Z",
     "iopub.status.idle": "2020-12-20T05:00:41.610566Z",
     "shell.execute_reply": "2020-12-20T05:00:41.609802Z"
    },
    "papermill": {
     "duration": 1.069259,
     "end_time": "2020-12-20T05:00:41.610732",
     "exception": false,
     "start_time": "2020-12-20T05:00:40.541473",
     "status": "completed"
    },
    "scrolled": false,
    "tags": []
   },
   "outputs": [
    {
     "data": {
      "text/plain": [
       "<Figure size 432x288 with 0 Axes>"
      ]
     },
     "metadata": {},
     "output_type": "display_data"
    },
    {
     "data": {
      "image/png": "[encoded data removed]",
      "text/plain": [
       "<Figure size 1440x720 with 1 Axes>"
      ]
     },
     "metadata": {
      "needs_background": "light"
     },
     "output_type": "display_data"
    }
   ],
   "source": [
    "names_coef = [x for x in l_beijing.columns[0:68]]\n",
    "plt.clf()\n",
    "plt.figure(figsize=(20,10))\n",
    "plt.plot(range(len(names_coef)), lasso_coef)\n",
    "plt.xticks(range(len(names_coef)), names_coef, rotation = 90)\n",
    "for i in range(0,68):\n",
    "    plt.axvline(x = i, color = \"gray\", linestyle='--', alpha = 0.4)\n",
    "plt.axhline(y = 0, color = \"skyblue\")\n",
    "plt.ylabel(\"Coefficients\")\n",
    "plt.show()"
   ]
  },
  {
   "cell_type": "markdown",
   "metadata": {
    "papermill": {
     "duration": 0.092328,
     "end_time": "2020-12-20T05:00:41.802232",
     "exception": false,
     "start_time": "2020-12-20T05:00:41.709904",
     "status": "completed"
    },
    "tags": []
   },
   "source": [
    "elevator, subway don't seem like a significant features driving the price of houses"
   ]
  },
  {
   "cell_type": "code",
   "execution_count": 51,
   "metadata": {
    "execution": {
     "iopub.execute_input": "2020-12-20T05:00:42.006950Z",
     "iopub.status.busy": "2020-12-20T05:00:42.006255Z",
     "iopub.status.idle": "2020-12-20T05:00:42.009319Z",
     "shell.execute_reply": "2020-12-20T05:00:42.009814Z"
    },
    "papermill": {
     "duration": 0.109218,
     "end_time": "2020-12-20T05:00:42.009970",
     "exception": false,
     "start_time": "2020-12-20T05:00:41.900752",
     "status": "completed"
    },
    "tags": []
   },
   "outputs": [],
   "source": [
    "s_vars = np.where(abs(lasso_coef)>0)[0].tolist() # significant variables"
   ]
  },
  {
   "cell_type": "markdown",
   "metadata": {
    "papermill": {
     "duration": 0.095719,
     "end_time": "2020-12-20T05:00:42.200094",
     "exception": false,
     "start_time": "2020-12-20T05:00:42.104375",
     "status": "completed"
    },
    "tags": []
   },
   "source": [
    "Important numerical features"
   ]
  },
  {
   "cell_type": "code",
   "execution_count": 52,
   "metadata": {
    "execution": {
     "iopub.execute_input": "2020-12-20T05:00:42.395295Z",
     "iopub.status.busy": "2020-12-20T05:00:42.394626Z",
     "iopub.status.idle": "2020-12-20T05:00:42.404358Z",
     "shell.execute_reply": "2020-12-20T05:00:42.405264Z"
    },
    "papermill": {
     "duration": 0.110247,
     "end_time": "2020-12-20T05:00:42.405576",
     "exception": false,
     "start_time": "2020-12-20T05:00:42.295329",
     "status": "completed"
    },
    "tags": []
   },
   "outputs": [
    {
     "name": "stdout",
     "output_type": "stream",
     "text": [
      "tradeTime \n",
      "DOM \n",
      "square \n",
      "constructionTime \n",
      "communityAverage \n",
      "livingRoom_1 \n",
      "livingRoom_5 \n",
      "livingRoom_6 \n",
      "drawingRoom_0 \n",
      "kitchen_2 \n",
      "bathRoom_3 \n",
      "bathRoom_4 \n",
      "bathRoom_5 \n",
      "buildingType_Tower \n",
      "renovationCondition_Other \n",
      "renovationCondition_Rough \n",
      "renovationCondition_Simplicity \n",
      "buildingStructure_Steel/Concrete \n",
      "fiveYearsProperty_Ownership<5y \n",
      "fiveYearsProperty_Ownership>5y \n",
      "district_ChangPing \n",
      "district_ChaoYang \n",
      "district_DaXing \n",
      "district_FangShang \n",
      "district_FengTai \n",
      "district_HaiDian \n",
      "district_MenTouGou \n",
      "district_ShiJingShan \n",
      "district_XiCheng \n"
     ]
    }
   ],
   "source": [
    "for i in s_vars:\n",
    "    print(\"{} \".format(names_coef[i],lasso_coef[i]))"
   ]
  },
  {
   "cell_type": "code",
   "execution_count": 53,
   "metadata": {
    "execution": {
     "iopub.execute_input": "2020-12-20T05:00:42.605786Z",
     "iopub.status.busy": "2020-12-20T05:00:42.605067Z",
     "iopub.status.idle": "2020-12-20T05:00:42.609709Z",
     "shell.execute_reply": "2020-12-20T05:00:42.609123Z"
    },
    "papermill": {
     "duration": 0.107338,
     "end_time": "2020-12-20T05:00:42.609833",
     "exception": false,
     "start_time": "2020-12-20T05:00:42.502495",
     "status": "completed"
    },
    "tags": []
   },
   "outputs": [
    {
     "data": {
      "text/plain": [
       "14"
      ]
     },
     "execution_count": 53,
     "metadata": {},
     "output_type": "execute_result"
    }
   ],
   "source": [
    "s_var_names = ['tradeTime', 'square','communityAverage', 'livingRoom', 'drawingRoom',\n",
    "               'kitchen','bathRoom', 'buildingType', 'renovationCondition', 'buildingStructure', \n",
    "               'elevator','fiveYearsProperty', 'subway','district']\n",
    "len(s_var_names)"
   ]
  },
  {
   "cell_type": "code",
   "execution_count": 54,
   "metadata": {
    "execution": {
     "iopub.execute_input": "2020-12-20T05:00:42.811975Z",
     "iopub.status.busy": "2020-12-20T05:00:42.811237Z",
     "iopub.status.idle": "2020-12-20T05:00:42.835752Z",
     "shell.execute_reply": "2020-12-20T05:00:42.835102Z"
    },
    "papermill": {
     "duration": 0.13011,
     "end_time": "2020-12-20T05:00:42.835899",
     "exception": false,
     "start_time": "2020-12-20T05:00:42.705789",
     "status": "completed"
    },
    "tags": []
   },
   "outputs": [
    {
     "name": "stdout",
     "output_type": "stream",
     "text": [
      "(297701, 15)\n"
     ]
    }
   ],
   "source": [
    "beijing_subset = beijing.loc[:,s_var_names+['totalPrice']]\n",
    "print(beijing_subset.shape)"
   ]
  },
  {
   "cell_type": "code",
   "execution_count": 55,
   "metadata": {
    "execution": {
     "iopub.execute_input": "2020-12-20T05:00:43.079973Z",
     "iopub.status.busy": "2020-12-20T05:00:43.078312Z",
     "iopub.status.idle": "2020-12-20T05:00:47.818859Z",
     "shell.execute_reply": "2020-12-20T05:00:47.817803Z"
    },
    "papermill": {
     "duration": 4.885488,
     "end_time": "2020-12-20T05:00:47.819270",
     "exception": false,
     "start_time": "2020-12-20T05:00:42.933782",
     "status": "completed"
    },
    "tags": []
   },
   "outputs": [
    {
     "name": "stdout",
     "output_type": "stream",
     "text": [
      "Encoded data:\n",
      "(297701, 64)\n"
     ]
    }
   ],
   "source": [
    "cat_mask = beijing_subset.dtypes == object\n",
    "cat_cols = beijing_subset.columns[cat_mask].tolist()\n",
    "r_enc = OneHotEncoder(handle_unknown='ignore', sparse = False)\n",
    "r_enc.fit(beijing_subset[cat_cols])\n",
    "r_beijing = encode_df(beijing_subset, r_enc, cat_cols)\n",
    "print(\"Encoded data:\")\n",
    "print(r_beijing.shape)"
   ]
  },
  {
   "cell_type": "code",
   "execution_count": 56,
   "metadata": {
    "execution": {
     "iopub.execute_input": "2020-12-20T05:00:48.023558Z",
     "iopub.status.busy": "2020-12-20T05:00:48.022154Z",
     "iopub.status.idle": "2020-12-20T05:00:48.241085Z",
     "shell.execute_reply": "2020-12-20T05:00:48.242111Z"
    },
    "papermill": {
     "duration": 0.325728,
     "end_time": "2020-12-20T05:00:48.242318",
     "exception": false,
     "start_time": "2020-12-20T05:00:47.916590",
     "status": "completed"
    },
    "tags": []
   },
   "outputs": [
    {
     "name": "stdout",
     "output_type": "stream",
     "text": [
      "(297701, 63) (297701, 1)\n"
     ]
    }
   ],
   "source": [
    "X, y = split_df(r_beijing)\n",
    "print(X.shape,y.shape)"
   ]
  },
  {
   "cell_type": "code",
   "execution_count": 57,
   "metadata": {
    "execution": {
     "iopub.execute_input": "2020-12-20T05:00:48.444209Z",
     "iopub.status.busy": "2020-12-20T05:00:48.443111Z",
     "iopub.status.idle": "2020-12-20T05:00:48.721708Z",
     "shell.execute_reply": "2020-12-20T05:00:48.720643Z"
    },
    "papermill": {
     "duration": 0.383989,
     "end_time": "2020-12-20T05:00:48.721884",
     "exception": false,
     "start_time": "2020-12-20T05:00:48.337895",
     "status": "completed"
    },
    "tags": []
   },
   "outputs": [],
   "source": [
    "X_train, X_test, y_train, y_test = train_test_split(X, y, test_size=0.3, random_state=193)"
   ]
  },
  {
   "cell_type": "markdown",
   "metadata": {
    "papermill": {
     "duration": 0.097344,
     "end_time": "2020-12-20T05:00:48.922019",
     "exception": false,
     "start_time": "2020-12-20T05:00:48.824675",
     "status": "completed"
    },
    "tags": []
   },
   "source": [
    "### Using regularized ridge regression to fit the model"
   ]
  },
  {
   "cell_type": "markdown",
   "metadata": {
    "papermill": {
     "duration": 0.096906,
     "end_time": "2020-12-20T05:00:49.116519",
     "exception": false,
     "start_time": "2020-12-20T05:00:49.019613",
     "status": "completed"
    },
    "tags": []
   },
   "source": [
    "Plot to identify best alpha"
   ]
  },
  {
   "cell_type": "code",
   "execution_count": 58,
   "metadata": {
    "execution": {
     "iopub.execute_input": "2020-12-20T05:00:49.321256Z",
     "iopub.status.busy": "2020-12-20T05:00:49.320603Z",
     "iopub.status.idle": "2020-12-20T05:00:49.322941Z",
     "shell.execute_reply": "2020-12-20T05:00:49.323605Z"
    },
    "papermill": {
     "duration": 0.108199,
     "end_time": "2020-12-20T05:00:49.323875",
     "exception": false,
     "start_time": "2020-12-20T05:00:49.215676",
     "status": "completed"
    },
    "tags": []
   },
   "outputs": [],
   "source": [
    "def display_plot(cv_scores, cv_scores_std):\n",
    "    fig = plt.figure()\n",
    "    ax = fig.add_subplot(1,1,1)\n",
    "    ax.plot(alpha_space, cv_scores)\n",
    "\n",
    "    std_error = cv_scores_std / np.sqrt(10)\n",
    "\n",
    "    ax.fill_between(alpha_space, cv_scores + std_error, cv_scores - std_error, alpha=0.2)\n",
    "    ax.set_ylabel('CV Score +/- Std Error')\n",
    "    ax.set_xlabel('Alpha')\n",
    "    ax.axhline(np.max(cv_scores), linestyle='--', color='.5')\n",
    "    ax.set_xlim([alpha_space[0], alpha_space[-1]])\n",
    "    ax.set_xscale('log')\n",
    "    plt.show()"
   ]
  },
  {
   "cell_type": "code",
   "execution_count": 59,
   "metadata": {
    "execution": {
     "iopub.execute_input": "2020-12-20T05:00:49.520726Z",
     "iopub.status.busy": "2020-12-20T05:00:49.520031Z",
     "iopub.status.idle": "2020-12-20T05:00:49.525241Z",
     "shell.execute_reply": "2020-12-20T05:00:49.524685Z"
    },
    "papermill": {
     "duration": 0.105022,
     "end_time": "2020-12-20T05:00:49.525361",
     "exception": false,
     "start_time": "2020-12-20T05:00:49.420339",
     "status": "completed"
    },
    "tags": []
   },
   "outputs": [],
   "source": [
    "ridge = Ridge(alpha = 0.1, normalize = True)"
   ]
  },
  {
   "cell_type": "code",
   "execution_count": 60,
   "metadata": {
    "execution": {
     "iopub.execute_input": "2020-12-20T05:00:49.721594Z",
     "iopub.status.busy": "2020-12-20T05:00:49.720896Z",
     "iopub.status.idle": "2020-12-20T05:00:49.926321Z",
     "shell.execute_reply": "2020-12-20T05:00:49.926866Z"
    },
    "papermill": {
     "duration": 0.306796,
     "end_time": "2020-12-20T05:00:49.927160",
     "exception": false,
     "start_time": "2020-12-20T05:00:49.620364",
     "status": "completed"
    },
    "tags": []
   },
   "outputs": [
    {
     "data": {
      "text/plain": [
       "Ridge(alpha=0.1, normalize=True)"
      ]
     },
     "execution_count": 60,
     "metadata": {},
     "output_type": "execute_result"
    }
   ],
   "source": [
    "ridge.fit(X_train, y_train)"
   ]
  },
  {
   "cell_type": "code",
   "execution_count": 61,
   "metadata": {
    "execution": {
     "iopub.execute_input": "2020-12-20T05:00:50.135247Z",
     "iopub.status.busy": "2020-12-20T05:00:50.133939Z",
     "iopub.status.idle": "2020-12-20T05:00:50.145141Z",
     "shell.execute_reply": "2020-12-20T05:00:50.144572Z"
    },
    "papermill": {
     "duration": 0.117929,
     "end_time": "2020-12-20T05:00:50.145275",
     "exception": false,
     "start_time": "2020-12-20T05:00:50.027346",
     "status": "completed"
    },
    "tags": []
   },
   "outputs": [],
   "source": [
    "ridge_pred = ridge.predict(X_test)"
   ]
  },
  {
   "cell_type": "code",
   "execution_count": 62,
   "metadata": {
    "execution": {
     "iopub.execute_input": "2020-12-20T05:00:50.342906Z",
     "iopub.status.busy": "2020-12-20T05:00:50.342254Z",
     "iopub.status.idle": "2020-12-20T05:00:50.358191Z",
     "shell.execute_reply": "2020-12-20T05:00:50.358853Z"
    },
    "papermill": {
     "duration": 0.117382,
     "end_time": "2020-12-20T05:00:50.358998",
     "exception": false,
     "start_time": "2020-12-20T05:00:50.241616",
     "status": "completed"
    },
    "tags": []
   },
   "outputs": [
    {
     "data": {
      "text/plain": [
       "0.7725835936807057"
      ]
     },
     "execution_count": 62,
     "metadata": {},
     "output_type": "execute_result"
    }
   ],
   "source": [
    "ridge.score(X_test, y_test)"
   ]
  },
  {
   "cell_type": "code",
   "execution_count": 63,
   "metadata": {
    "execution": {
     "iopub.execute_input": "2020-12-20T05:00:50.560844Z",
     "iopub.status.busy": "2020-12-20T05:00:50.560126Z",
     "iopub.status.idle": "2020-12-20T05:02:05.858908Z",
     "shell.execute_reply": "2020-12-20T05:02:05.859447Z"
    },
    "papermill": {
     "duration": 75.404894,
     "end_time": "2020-12-20T05:02:05.859636",
     "exception": false,
     "start_time": "2020-12-20T05:00:50.454742",
     "status": "completed"
    },
    "tags": []
   },
   "outputs": [],
   "source": [
    "alpha_space = np.logspace(-4, 1, 50)\n",
    "ridge_scores = []\n",
    "ridge_scores_std = []\n",
    "for alpha in alpha_space:\n",
    "    ridge.alpha = alpha\n",
    "    ridge_cv_scores = cross_val_score(ridge, X, y, cv = 5)\n",
    "    ridge_scores.append(np.mean(ridge_cv_scores))\n",
    "    ridge_scores_std.append(np.std(ridge_cv_scores))"
   ]
  },
  {
   "cell_type": "code",
   "execution_count": 64,
   "metadata": {
    "execution": {
     "iopub.execute_input": "2020-12-20T05:02:06.062290Z",
     "iopub.status.busy": "2020-12-20T05:02:06.061291Z",
     "iopub.status.idle": "2020-12-20T05:02:06.709389Z",
     "shell.execute_reply": "2020-12-20T05:02:06.708547Z"
    },
    "papermill": {
     "duration": 0.750956,
     "end_time": "2020-12-20T05:02:06.709537",
     "exception": false,
     "start_time": "2020-12-20T05:02:05.958581",
     "status": "completed"
    },
    "tags": []
   },
   "outputs": [
    {
     "data": {
      "image/png": "[encoded data removed]",
      "text/plain": [
       "<Figure size 432x288 with 1 Axes>"
      ]
     },
     "metadata": {
      "needs_background": "light"
     },
     "output_type": "display_data"
    }
   ],
   "source": [
    "display_plot(ridge_scores, ridge_scores_std)"
   ]
  },
  {
   "cell_type": "code",
   "execution_count": 65,
   "metadata": {
    "execution": {
     "iopub.execute_input": "2020-12-20T05:02:06.909712Z",
     "iopub.status.busy": "2020-12-20T05:02:06.908838Z",
     "iopub.status.idle": "2020-12-20T05:02:06.914097Z",
     "shell.execute_reply": "2020-12-20T05:02:06.913433Z"
    },
    "papermill": {
     "duration": 0.107932,
     "end_time": "2020-12-20T05:02:06.914217",
     "exception": false,
     "start_time": "2020-12-20T05:02:06.806285",
     "status": "completed"
    },
    "tags": []
   },
   "outputs": [
    {
     "name": "stdout",
     "output_type": "stream",
     "text": [
      "Suggested alpha: 0.0002559547922699536\n"
     ]
    }
   ],
   "source": [
    "print(\"Suggested alpha: {}\".format(float(alpha_space[np.where(max(ridge_cv_scores)==ridge_cv_scores)[0]])))"
   ]
  },
  {
   "cell_type": "code",
   "execution_count": 66,
   "metadata": {
    "execution": {
     "iopub.execute_input": "2020-12-20T05:02:07.122900Z",
     "iopub.status.busy": "2020-12-20T05:02:07.122076Z",
     "iopub.status.idle": "2020-12-20T05:02:07.125344Z",
     "shell.execute_reply": "2020-12-20T05:02:07.124826Z"
    },
    "papermill": {
     "duration": 0.112827,
     "end_time": "2020-12-20T05:02:07.125457",
     "exception": false,
     "start_time": "2020-12-20T05:02:07.012630",
     "status": "completed"
    },
    "tags": []
   },
   "outputs": [],
   "source": [
    "ridge.alpha =  float(alpha_space[np.where(max(ridge_cv_scores)==ridge_cv_scores)[0]])"
   ]
  },
  {
   "cell_type": "code",
   "execution_count": 67,
   "metadata": {
    "execution": {
     "iopub.execute_input": "2020-12-20T05:02:07.329654Z",
     "iopub.status.busy": "2020-12-20T05:02:07.328955Z",
     "iopub.status.idle": "2020-12-20T05:02:07.502761Z",
     "shell.execute_reply": "2020-12-20T05:02:07.503415Z"
    },
    "papermill": {
     "duration": 0.278666,
     "end_time": "2020-12-20T05:02:07.503634",
     "exception": false,
     "start_time": "2020-12-20T05:02:07.224968",
     "status": "completed"
    },
    "tags": []
   },
   "outputs": [
    {
     "data": {
      "text/plain": [
       "Ridge(alpha=0.0002559547922699536, normalize=True)"
      ]
     },
     "execution_count": 67,
     "metadata": {},
     "output_type": "execute_result"
    }
   ],
   "source": [
    "ridge.fit(X_train, y_train)"
   ]
  },
  {
   "cell_type": "code",
   "execution_count": 68,
   "metadata": {
    "execution": {
     "iopub.execute_input": "2020-12-20T05:02:07.719819Z",
     "iopub.status.busy": "2020-12-20T05:02:07.718988Z",
     "iopub.status.idle": "2020-12-20T05:02:07.729848Z",
     "shell.execute_reply": "2020-12-20T05:02:07.730457Z"
    },
    "papermill": {
     "duration": 0.12084,
     "end_time": "2020-12-20T05:02:07.730668",
     "exception": false,
     "start_time": "2020-12-20T05:02:07.609828",
     "status": "completed"
    },
    "tags": []
   },
   "outputs": [],
   "source": [
    "ridge_pred = ridge.predict(X_test)"
   ]
  },
  {
   "cell_type": "code",
   "execution_count": 69,
   "metadata": {
    "execution": {
     "iopub.execute_input": "2020-12-20T05:02:07.942647Z",
     "iopub.status.busy": "2020-12-20T05:02:07.941922Z",
     "iopub.status.idle": "2020-12-20T05:02:07.957267Z",
     "shell.execute_reply": "2020-12-20T05:02:07.957869Z"
    },
    "papermill": {
     "duration": 0.122144,
     "end_time": "2020-12-20T05:02:07.958023",
     "exception": false,
     "start_time": "2020-12-20T05:02:07.835879",
     "status": "completed"
    },
    "scrolled": true,
    "tags": []
   },
   "outputs": [
    {
     "data": {
      "text/plain": [
       "0.7897603066959824"
      ]
     },
     "execution_count": 69,
     "metadata": {},
     "output_type": "execute_result"
    }
   ],
   "source": [
    "ridge.score(X_test, y_test)"
   ]
  },
  {
   "cell_type": "markdown",
   "metadata": {
    "papermill": {
     "duration": 0.104835,
     "end_time": "2020-12-20T05:02:08.171935",
     "exception": false,
     "start_time": "2020-12-20T05:02:08.067100",
     "status": "completed"
    },
    "tags": []
   },
   "source": [
    "### Using Ensemble method - GradientBoostingRegressor"
   ]
  },
  {
   "cell_type": "code",
   "execution_count": 70,
   "metadata": {
    "execution": {
     "iopub.execute_input": "2020-12-20T05:02:08.378836Z",
     "iopub.status.busy": "2020-12-20T05:02:08.377798Z",
     "iopub.status.idle": "2020-12-20T05:02:08.383385Z",
     "shell.execute_reply": "2020-12-20T05:02:08.383904Z"
    },
    "papermill": {
     "duration": 0.109528,
     "end_time": "2020-12-20T05:02:08.384069",
     "exception": false,
     "start_time": "2020-12-20T05:02:08.274541",
     "status": "completed"
    },
    "tags": []
   },
   "outputs": [],
   "source": [
    "model_parameters = {\n",
    "    'n_estimators': 500,\n",
    "    'max_depth': 6,\n",
    "    'min_samples_split': 5,\n",
    "    'learning_rate': 0.01,\n",
    "    'loss': 'ls'\n",
    "}\n",
    "gbReg = GradientBoostingRegressor(**model_parameters)"
   ]
  },
  {
   "cell_type": "code",
   "execution_count": 71,
   "metadata": {
    "execution": {
     "iopub.execute_input": "2020-12-20T05:02:08.593179Z",
     "iopub.status.busy": "2020-12-20T05:02:08.592501Z",
     "iopub.status.idle": "2020-12-20T05:15:03.551271Z",
     "shell.execute_reply": "2020-12-20T05:15:03.551893Z"
    },
    "papermill": {
     "duration": 775.068307,
     "end_time": "2020-12-20T05:15:03.552064",
     "exception": false,
     "start_time": "2020-12-20T05:02:08.483757",
     "status": "completed"
    },
    "tags": []
   },
   "outputs": [
    {
     "data": {
      "text/plain": [
       "GradientBoostingRegressor(learning_rate=0.01, max_depth=6, min_samples_split=5,\n",
       "                          n_estimators=500)"
      ]
     },
     "execution_count": 71,
     "metadata": {},
     "output_type": "execute_result"
    }
   ],
   "source": [
    "gbReg.fit(X_train, y_train)"
   ]
  },
  {
   "cell_type": "code",
   "execution_count": 72,
   "metadata": {
    "execution": {
     "iopub.execute_input": "2020-12-20T05:15:03.759329Z",
     "iopub.status.busy": "2020-12-20T05:15:03.758655Z",
     "iopub.status.idle": "2020-12-20T05:15:06.375421Z",
     "shell.execute_reply": "2020-12-20T05:15:06.374879Z"
    },
    "papermill": {
     "duration": 2.722929,
     "end_time": "2020-12-20T05:15:06.375553",
     "exception": false,
     "start_time": "2020-12-20T05:15:03.652624",
     "status": "completed"
    },
    "tags": []
   },
   "outputs": [
    {
     "data": {
      "text/plain": [
       "0.9458437554524708"
      ]
     },
     "execution_count": 72,
     "metadata": {},
     "output_type": "execute_result"
    }
   ],
   "source": [
    "gbReg.score(X_test, y_test)"
   ]
  },
  {
   "cell_type": "markdown",
   "metadata": {
    "papermill": {
     "duration": 0.099728,
     "end_time": "2020-12-20T05:15:06.575781",
     "exception": false,
     "start_time": "2020-12-20T05:15:06.476053",
     "status": "completed"
    },
    "tags": []
   },
   "source": [
    "## Saving the model"
   ]
  },
  {
   "cell_type": "code",
   "execution_count": 73,
   "metadata": {
    "execution": {
     "iopub.execute_input": "2020-12-20T05:15:06.783158Z",
     "iopub.status.busy": "2020-12-20T05:15:06.781618Z",
     "iopub.status.idle": "2020-12-20T05:15:06.813080Z",
     "shell.execute_reply": "2020-12-20T05:15:06.812381Z"
    },
    "papermill": {
     "duration": 0.137832,
     "end_time": "2020-12-20T05:15:06.813201",
     "exception": false,
     "start_time": "2020-12-20T05:15:06.675369",
     "status": "completed"
    },
    "tags": []
   },
   "outputs": [],
   "source": [
    "filename = 'sklearn_model.sav'\n",
    "encoder_name = 'one_hot_encoder.sav'\n",
    "pickle.dump(gbReg, open(filename, 'wb'))\n",
    "pickle.dump(r_enc, open(encoder_name, 'wb'))"
   ]
  },
  {
   "cell_type": "markdown",
   "metadata": {
    "papermill": {
     "duration": 0.101625,
     "end_time": "2020-12-20T05:15:07.016203",
     "exception": false,
     "start_time": "2020-12-20T05:15:06.914578",
     "status": "completed"
    },
    "tags": []
   },
   "source": [
    "### Loading the model \n",
    "Creating a pipeline for price prediction app deployed on Heroku: [house-price-ar32-app](https://house-price-ar32.herokuapp.com/)"
   ]
  },
  {
   "cell_type": "code",
   "execution_count": 74,
   "metadata": {
    "execution": {
     "iopub.execute_input": "2020-12-20T05:15:07.241775Z",
     "iopub.status.busy": "2020-12-20T05:15:07.236201Z",
     "iopub.status.idle": "2020-12-20T05:15:09.906226Z",
     "shell.execute_reply": "2020-12-20T05:15:09.905518Z"
    },
    "papermill": {
     "duration": 2.779224,
     "end_time": "2020-12-20T05:15:09.906351",
     "exception": false,
     "start_time": "2020-12-20T05:15:07.127127",
     "status": "completed"
    },
    "tags": []
   },
   "outputs": [
    {
     "data": {
      "text/plain": [
       "0.9458437554524708"
      ]
     },
     "execution_count": 74,
     "metadata": {},
     "output_type": "execute_result"
    }
   ],
   "source": [
    "mdl = pickle.load(open(filename, 'rb'))\n",
    "enc = pickle.load(open(encoder_name, 'rb'))\n",
    "mdl.score(X_test, y_test)"
   ]
  },
  {
   "cell_type": "markdown",
   "metadata": {
    "papermill": {
     "duration": 0.111817,
     "end_time": "2020-12-20T05:15:10.130620",
     "exception": false,
     "start_time": "2020-12-20T05:15:10.018803",
     "status": "completed"
    },
    "tags": []
   },
   "source": [
    "Simulating data"
   ]
  },
  {
   "cell_type": "code",
   "execution_count": 75,
   "metadata": {
    "execution": {
     "iopub.execute_input": "2020-12-20T05:15:10.354709Z",
     "iopub.status.busy": "2020-12-20T05:15:10.353923Z",
     "iopub.status.idle": "2020-12-20T05:15:10.358914Z",
     "shell.execute_reply": "2020-12-20T05:15:10.358243Z"
    },
    "papermill": {
     "duration": 0.118612,
     "end_time": "2020-12-20T05:15:10.359034",
     "exception": false,
     "start_time": "2020-12-20T05:15:10.240422",
     "status": "completed"
    },
    "tags": []
   },
   "outputs": [
    {
     "data": {
      "text/plain": [
       "tradeTime              2016-07-28 00:00:00\n",
       "square                              132.38\n",
       "communityAverage                     71539\n",
       "livingRoom                               2\n",
       "drawingRoom                              2\n",
       "kitchen                                  1\n",
       "bathRoom                                 2\n",
       "buildingType                         Tower\n",
       "renovationCondition              Hardcover\n",
       "buildingStructure           Steel/Concrete\n",
       "elevator                           Present\n",
       "fiveYearsProperty             Ownership<5y\n",
       "subway                                 Far\n",
       "district                          ChaoYang\n",
       "totalPrice                             575\n",
       "Name: 1, dtype: object"
      ]
     },
     "execution_count": 75,
     "metadata": {},
     "output_type": "execute_result"
    }
   ],
   "source": [
    "beijing.loc[1,s_var_names+['totalPrice']]"
   ]
  },
  {
   "cell_type": "code",
   "execution_count": 76,
   "metadata": {
    "execution": {
     "iopub.execute_input": "2020-12-20T05:15:10.597984Z",
     "iopub.status.busy": "2020-12-20T05:15:10.594660Z",
     "iopub.status.idle": "2020-12-20T05:15:10.602437Z",
     "shell.execute_reply": "2020-12-20T05:15:10.602965Z"
    },
    "papermill": {
     "duration": 0.142021,
     "end_time": "2020-12-20T05:15:10.603107",
     "exception": false,
     "start_time": "2020-12-20T05:15:10.461086",
     "status": "completed"
    },
    "tags": []
   },
   "outputs": [
    {
     "name": "stdout",
     "output_type": "stream",
     "text": [
      "(1, 63) (1, 1)\n",
      "Predicted value : 728.4936697656166\n",
      "Actual value    : 530\n"
     ]
    }
   ],
   "source": [
    "df_dict = {\n",
    "    'tradeTime':'2016-07-28',\n",
    "    'square':132.38,\n",
    "    'communityAverage':71539,\n",
    "    'livingRoom':'2',\n",
    "    'drawingRoom':'2',\n",
    "    'kitchen':'1',\n",
    "    'bathRoom':'2',\n",
    "    'buildingType':'Tower',\n",
    "    'renovationCondition':'Hardcover',\n",
    "    'buildingStructure':'Steel/Concrete',\n",
    "    'elevator': 'Present',\n",
    "    'fiveYearsProperty':'Ownership<5y',\n",
    "    'subway': 'Far',\n",
    "    'district':'ChaoYang',\n",
    "    'totalPrice': 530\n",
    "}    \n",
    "df = pd.DataFrame(df_dict, index = [0])\n",
    "df_enc = encode_df(df, enc, cat_cols)\n",
    "X, y = split_df(df_enc)\n",
    "print(X.shape,y.shape)\n",
    "print(\"Predicted value : {}\\nActual value    : {}\".format(mdl.predict(X)[0], y[0][0]))"
   ]
  },
  {
   "cell_type": "markdown",
   "metadata": {
    "papermill": {
     "duration": 0.105628,
     "end_time": "2020-12-20T05:15:10.812635",
     "exception": false,
     "start_time": "2020-12-20T05:15:10.707007",
     "status": "completed"
    },
    "tags": []
   },
   "source": [
    "## EDA \n",
    "### for application UX implementation"
   ]
  },
  {
   "cell_type": "code",
   "execution_count": 77,
   "metadata": {
    "execution": {
     "iopub.execute_input": "2020-12-20T05:15:11.037734Z",
     "iopub.status.busy": "2020-12-20T05:15:11.036873Z",
     "iopub.status.idle": "2020-12-20T05:15:11.058778Z",
     "shell.execute_reply": "2020-12-20T05:15:11.057933Z"
    },
    "papermill": {
     "duration": 0.138056,
     "end_time": "2020-12-20T05:15:11.058906",
     "exception": false,
     "start_time": "2020-12-20T05:15:10.920850",
     "status": "completed"
    },
    "tags": []
   },
   "outputs": [],
   "source": [
    "df = beijing.loc[:,s_var_names+['totalPrice']]"
   ]
  },
  {
   "cell_type": "code",
   "execution_count": 78,
   "metadata": {
    "execution": {
     "iopub.execute_input": "2020-12-20T05:15:11.273500Z",
     "iopub.status.busy": "2020-12-20T05:15:11.272799Z",
     "iopub.status.idle": "2020-12-20T05:15:11.286128Z",
     "shell.execute_reply": "2020-12-20T05:15:11.285447Z"
    },
    "papermill": {
     "duration": 0.123341,
     "end_time": "2020-12-20T05:15:11.286261",
     "exception": false,
     "start_time": "2020-12-20T05:15:11.162920",
     "status": "completed"
    },
    "tags": []
   },
   "outputs": [
    {
     "name": "stdout",
     "output_type": "stream",
     "text": [
      "[205. 295. 427.]\n"
     ]
    }
   ],
   "source": [
    "print(np.quantile(df[\"totalPrice\"], [0.25,0.5,0.75]))"
   ]
  }
 ],
 "metadata": {
  "kernelspec": {
   "display_name": "Python 3",
   "language": "python",
   "name": "python3"
  },
  "language_info": {
   "codemirror_mode": {
    "name": "ipython",
    "version": 3
   },
   "file_extension": ".py",
   "mimetype": "text/x-python",
   "name": "python",
   "nbconvert_exporter": "python",
   "pygments_lexer": "ipython3",
   "version": "3.7.6"
  },
  "papermill": {
   "duration": 943.065961,
   "end_time": "2020-12-20T05:15:11.500961",
   "environment_variables": {},
   "exception": null,
   "input_path": "__notebook__.ipynb",
   "output_path": "__notebook__.ipynb",
   "parameters": {},
   "start_time": "2020-12-20T04:59:28.435000",
   "version": "2.1.0"
  }
 },
 "nbformat": 4,
 "nbformat_minor": 4
}
